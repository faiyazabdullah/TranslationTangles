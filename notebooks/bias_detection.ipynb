{
 "cells": [
  {
   "cell_type": "code",
   "execution_count": 1,
   "metadata": {},
   "outputs": [
    {
     "name": "stderr",
     "output_type": "stream",
     "text": [
      "/home/faiyaz/Desktop/bias detection/llm4mt/lib/python3.12/site-packages/tqdm/auto.py:21: TqdmWarning: IProgress not found. Please update jupyter and ipywidgets. See https://ipywidgets.readthedocs.io/en/stable/user_install.html\n",
      "  from .autonotebook import tqdm as notebook_tqdm\n",
      "[nltk_data] Downloading package punkt to /home/faiyaz/nltk_data...\n",
      "[nltk_data]   Package punkt is already up-to-date!\n",
      "[nltk_data] Downloading package punkt_tab to /home/faiyaz/nltk_data...\n",
      "[nltk_data]   Package punkt_tab is already up-to-date!\n"
     ]
    },
    {
     "name": "stdout",
     "output_type": "stream",
     "text": [
      "📄 Processing: translations_llama-3.1-70b-versatile_de-en.csv | Model: llama-3.1-70b-versatile | Lang Pair: de-en\n"
     ]
    },
    {
     "name": "stderr",
     "output_type": "stream",
     "text": [
      "Detecting Biases: 100%|███████████████████████| 100/100 [00:03<00:00, 31.20it/s]\n"
     ]
    },
    {
     "name": "stdout",
     "output_type": "stream",
     "text": [
      "📄 Processing: translations_llama-3.1-70b-versatile_ru-en.csv | Model: llama-3.1-70b-versatile | Lang Pair: ru-en\n"
     ]
    },
    {
     "name": "stderr",
     "output_type": "stream",
     "text": [
      "Detecting Biases: 100%|███████████████████████| 100/100 [00:03<00:00, 31.19it/s]\n"
     ]
    },
    {
     "name": "stdout",
     "output_type": "stream",
     "text": [
      "📄 Processing: translations_gemma2-9b-it_et-en.csv | Model: gemma2-9b-it | Lang Pair: et-en\n"
     ]
    },
    {
     "name": "stderr",
     "output_type": "stream",
     "text": [
      "Detecting Biases: 100%|███████████████████████| 100/100 [00:02<00:00, 33.54it/s]\n"
     ]
    },
    {
     "name": "stdout",
     "output_type": "stream",
     "text": [
      "📄 Processing: translations_mixtral-8x7b-32768_de-en.csv | Model: mixtral-8x7b-32768 | Lang Pair: de-en\n"
     ]
    },
    {
     "name": "stderr",
     "output_type": "stream",
     "text": [
      "Detecting Biases: 100%|███████████████████████| 100/100 [00:03<00:00, 32.16it/s]\n"
     ]
    },
    {
     "name": "stdout",
     "output_type": "stream",
     "text": [
      "📄 Processing: translations_llama-3.1-8b-instant_zh-en.csv | Model: llama-3.1-8b-instant | Lang Pair: zh-en\n"
     ]
    },
    {
     "name": "stderr",
     "output_type": "stream",
     "text": [
      "Detecting Biases: 100%|███████████████████████| 100/100 [00:03<00:00, 28.11it/s]\n"
     ]
    },
    {
     "name": "stdout",
     "output_type": "stream",
     "text": [
      "📄 Processing: translations_gemma-7b-it_cs-en.csv | Model: gemma-7b-it | Lang Pair: cs-en\n"
     ]
    },
    {
     "name": "stderr",
     "output_type": "stream",
     "text": [
      "Detecting Biases: 100%|█████████████████████████| 69/69 [00:01<00:00, 35.84it/s]\n"
     ]
    },
    {
     "name": "stdout",
     "output_type": "stream",
     "text": [
      "📄 Processing: translations_llama-3.1-8b-instant_de-en.csv | Model: llama-3.1-8b-instant | Lang Pair: de-en\n"
     ]
    },
    {
     "name": "stderr",
     "output_type": "stream",
     "text": [
      "Detecting Biases: 100%|███████████████████████| 100/100 [00:03<00:00, 30.52it/s]\n"
     ]
    },
    {
     "name": "stdout",
     "output_type": "stream",
     "text": [
      "📄 Processing: translations_llama-3.2-90b-vision-preview_kk-en.csv | Model: llama-3.2-90b-vision-preview | Lang Pair: kk-en\n"
     ]
    },
    {
     "name": "stderr",
     "output_type": "stream",
     "text": [
      "Detecting Biases: 100%|███████████████████████| 100/100 [00:03<00:00, 32.06it/s]\n"
     ]
    },
    {
     "name": "stdout",
     "output_type": "stream",
     "text": [
      "📄 Processing: translations_llama-3.1-8b-instant_tr-en.csv | Model: llama-3.1-8b-instant | Lang Pair: tr-en\n"
     ]
    },
    {
     "name": "stderr",
     "output_type": "stream",
     "text": [
      "Detecting Biases: 100%|███████████████████████| 100/100 [00:03<00:00, 32.39it/s]\n"
     ]
    },
    {
     "name": "stdout",
     "output_type": "stream",
     "text": [
      "📄 Processing: translations_gemma-7b-it_kk-en.csv | Model: gemma-7b-it | Lang Pair: kk-en\n"
     ]
    },
    {
     "name": "stderr",
     "output_type": "stream",
     "text": [
      "Detecting Biases: 100%|█████████████████████████| 99/99 [00:03<00:00, 27.35it/s]\n"
     ]
    },
    {
     "name": "stdout",
     "output_type": "stream",
     "text": [
      "📄 Processing: translations_llama-3.1-8b-instant_gu-en.csv | Model: llama-3.1-8b-instant | Lang Pair: gu-en\n"
     ]
    },
    {
     "name": "stderr",
     "output_type": "stream",
     "text": [
      "Detecting Biases: 100%|███████████████████████| 100/100 [00:04<00:00, 23.99it/s]\n"
     ]
    },
    {
     "name": "stdout",
     "output_type": "stream",
     "text": [
      "📄 Processing: translations_llama-3.1-70b-versatile_fi-en.csv | Model: llama-3.1-70b-versatile | Lang Pair: fi-en\n"
     ]
    },
    {
     "name": "stderr",
     "output_type": "stream",
     "text": [
      "Detecting Biases: 100%|███████████████████████| 100/100 [00:02<00:00, 35.77it/s]\n"
     ]
    },
    {
     "name": "stdout",
     "output_type": "stream",
     "text": [
      "📄 Processing: translations_llama3-groq-70b-8192-tool-use-preview_bn-en.csv | Model: llama3-groq-70b-8192-tool-use-preview | Lang Pair: bn-en\n"
     ]
    },
    {
     "name": "stderr",
     "output_type": "stream",
     "text": [
      "Detecting Biases: 100%|███████████████████████| 100/100 [00:02<00:00, 34.72it/s]\n"
     ]
    },
    {
     "name": "stdout",
     "output_type": "stream",
     "text": [
      "📄 Processing: translations_llama3-groq-70b-8192-tool-use-preview_lt-en.csv | Model: llama3-groq-70b-8192-tool-use-preview | Lang Pair: lt-en\n"
     ]
    },
    {
     "name": "stderr",
     "output_type": "stream",
     "text": [
      "Detecting Biases: 100%|███████████████████████| 100/100 [00:03<00:00, 31.61it/s]\n"
     ]
    },
    {
     "name": "stdout",
     "output_type": "stream",
     "text": [
      "📄 Processing: translations_gemma2-9b-it_tr-en.csv | Model: gemma2-9b-it | Lang Pair: tr-en\n"
     ]
    },
    {
     "name": "stderr",
     "output_type": "stream",
     "text": [
      "Detecting Biases: 100%|███████████████████████| 100/100 [00:03<00:00, 28.78it/s]\n"
     ]
    },
    {
     "name": "stdout",
     "output_type": "stream",
     "text": [
      "📄 Processing: translations_gemma-7b-it_ru-en.csv | Model: gemma-7b-it | Lang Pair: ru-en\n"
     ]
    },
    {
     "name": "stderr",
     "output_type": "stream",
     "text": [
      "Detecting Biases: 100%|███████████████████████| 100/100 [00:03<00:00, 31.63it/s]\n"
     ]
    },
    {
     "name": "stdout",
     "output_type": "stream",
     "text": [
      "📄 Processing: translations_llama3-groq-8b-8192-tool-use-preview_bn-en.csv | Model: llama3-groq-8b-8192-tool-use-preview | Lang Pair: bn-en\n"
     ]
    },
    {
     "name": "stderr",
     "output_type": "stream",
     "text": [
      "Detecting Biases: 100%|███████████████████████| 100/100 [00:02<00:00, 34.18it/s]\n"
     ]
    },
    {
     "name": "stdout",
     "output_type": "stream",
     "text": [
      "📄 Processing: translations_llama3-groq-70b-8192-tool-use-preview_cs-en.csv | Model: llama3-groq-70b-8192-tool-use-preview | Lang Pair: cs-en\n"
     ]
    },
    {
     "name": "stderr",
     "output_type": "stream",
     "text": [
      "Detecting Biases: 100%|███████████████████████| 100/100 [00:02<00:00, 33.35it/s]\n"
     ]
    },
    {
     "name": "stdout",
     "output_type": "stream",
     "text": [
      "📄 Processing: translations_llama3-groq-70b-8192-tool-use-preview_fi-en.csv | Model: llama3-groq-70b-8192-tool-use-preview | Lang Pair: fi-en\n"
     ]
    },
    {
     "name": "stderr",
     "output_type": "stream",
     "text": [
      "Detecting Biases: 100%|███████████████████████| 100/100 [00:02<00:00, 33.48it/s]\n"
     ]
    },
    {
     "name": "stdout",
     "output_type": "stream",
     "text": [
      "📄 Processing: translations_llama-3.2-90b-vision-preview_lt-en.csv | Model: llama-3.2-90b-vision-preview | Lang Pair: lt-en\n"
     ]
    },
    {
     "name": "stderr",
     "output_type": "stream",
     "text": [
      "Detecting Biases: 100%|███████████████████████| 100/100 [00:02<00:00, 33.37it/s]\n"
     ]
    },
    {
     "name": "stdout",
     "output_type": "stream",
     "text": [
      "📄 Processing: translations_gemma2-9b-it_zh-en.csv | Model: gemma2-9b-it | Lang Pair: zh-en\n"
     ]
    },
    {
     "name": "stderr",
     "output_type": "stream",
     "text": [
      "Detecting Biases: 100%|███████████████████████| 100/100 [00:04<00:00, 24.33it/s]\n"
     ]
    },
    {
     "name": "stdout",
     "output_type": "stream",
     "text": [
      "📄 Processing: translations_llama3-groq-8b-8192-tool-use-preview_cs-en.csv | Model: llama3-groq-8b-8192-tool-use-preview | Lang Pair: cs-en\n"
     ]
    },
    {
     "name": "stderr",
     "output_type": "stream",
     "text": [
      "Detecting Biases: 100%|███████████████████████| 100/100 [00:02<00:00, 35.21it/s]\n"
     ]
    },
    {
     "name": "stdout",
     "output_type": "stream",
     "text": [
      "📄 Processing: translations_llama-3.1-8b-instant_lt-en.csv | Model: llama-3.1-8b-instant | Lang Pair: lt-en\n"
     ]
    },
    {
     "name": "stderr",
     "output_type": "stream",
     "text": [
      "Detecting Biases: 100%|███████████████████████| 100/100 [00:03<00:00, 32.39it/s]\n"
     ]
    },
    {
     "name": "stdout",
     "output_type": "stream",
     "text": [
      "📄 Processing: translations_llama3-groq-70b-8192-tool-use-preview_zh-en.csv | Model: llama3-groq-70b-8192-tool-use-preview | Lang Pair: zh-en\n"
     ]
    },
    {
     "name": "stderr",
     "output_type": "stream",
     "text": [
      "Detecting Biases: 100%|███████████████████████| 100/100 [00:03<00:00, 29.57it/s]\n"
     ]
    },
    {
     "name": "stdout",
     "output_type": "stream",
     "text": [
      "📄 Processing: translations_llama3-groq-8b-8192-tool-use-preview_tr-en.csv | Model: llama3-groq-8b-8192-tool-use-preview | Lang Pair: tr-en\n"
     ]
    },
    {
     "name": "stderr",
     "output_type": "stream",
     "text": [
      "Detecting Biases: 100%|███████████████████████| 100/100 [00:02<00:00, 35.24it/s]\n"
     ]
    },
    {
     "name": "stdout",
     "output_type": "stream",
     "text": [
      "📄 Processing: translations_llama-3.1-70b-versatile_tr-en.csv | Model: llama-3.1-70b-versatile | Lang Pair: tr-en\n"
     ]
    },
    {
     "name": "stderr",
     "output_type": "stream",
     "text": [
      "Detecting Biases: 100%|███████████████████████| 100/100 [00:02<00:00, 34.90it/s]\n"
     ]
    },
    {
     "name": "stdout",
     "output_type": "stream",
     "text": [
      "📄 Processing: translations_llama3-groq-70b-8192-tool-use-preview_de-en.csv | Model: llama3-groq-70b-8192-tool-use-preview | Lang Pair: de-en\n"
     ]
    },
    {
     "name": "stderr",
     "output_type": "stream",
     "text": [
      "Detecting Biases: 100%|███████████████████████| 100/100 [00:02<00:00, 34.59it/s]\n"
     ]
    },
    {
     "name": "stdout",
     "output_type": "stream",
     "text": [
      "📄 Processing: translations_mixtral-8x7b-32768_cs-en.csv | Model: mixtral-8x7b-32768 | Lang Pair: cs-en\n"
     ]
    },
    {
     "name": "stderr",
     "output_type": "stream",
     "text": [
      "Detecting Biases: 100%|███████████████████████| 100/100 [00:02<00:00, 33.65it/s]\n"
     ]
    },
    {
     "name": "stdout",
     "output_type": "stream",
     "text": [
      "📄 Processing: translations_mixtral-8x7b-32768_ru-en.csv | Model: mixtral-8x7b-32768 | Lang Pair: ru-en\n"
     ]
    },
    {
     "name": "stderr",
     "output_type": "stream",
     "text": [
      "Detecting Biases: 100%|███████████████████████| 100/100 [00:03<00:00, 32.19it/s]\n"
     ]
    },
    {
     "name": "stdout",
     "output_type": "stream",
     "text": [
      "📄 Processing: translations_llama3-groq-8b-8192-tool-use-preview_kk-en.csv | Model: llama3-groq-8b-8192-tool-use-preview | Lang Pair: kk-en\n"
     ]
    },
    {
     "name": "stderr",
     "output_type": "stream",
     "text": [
      "Detecting Biases: 100%|███████████████████████| 100/100 [00:03<00:00, 31.69it/s]\n"
     ]
    },
    {
     "name": "stdout",
     "output_type": "stream",
     "text": [
      "📄 Processing: translations_mixtral-8x7b-32768_lt-en.csv | Model: mixtral-8x7b-32768 | Lang Pair: lt-en\n"
     ]
    },
    {
     "name": "stderr",
     "output_type": "stream",
     "text": [
      "Detecting Biases: 100%|███████████████████████| 100/100 [00:03<00:00, 31.15it/s]\n"
     ]
    },
    {
     "name": "stdout",
     "output_type": "stream",
     "text": [
      "📄 Processing: translations_llama-3.2-90b-vision-preview_de-en.csv | Model: llama-3.2-90b-vision-preview | Lang Pair: de-en\n"
     ]
    },
    {
     "name": "stderr",
     "output_type": "stream",
     "text": [
      "Detecting Biases: 100%|███████████████████████| 100/100 [00:02<00:00, 35.25it/s]\n"
     ]
    },
    {
     "name": "stdout",
     "output_type": "stream",
     "text": [
      "📄 Processing: translations_llama3-groq-8b-8192-tool-use-preview_lt-en.csv | Model: llama3-groq-8b-8192-tool-use-preview | Lang Pair: lt-en\n"
     ]
    },
    {
     "name": "stderr",
     "output_type": "stream",
     "text": [
      "Detecting Biases: 100%|███████████████████████| 100/100 [00:02<00:00, 33.88it/s]\n"
     ]
    },
    {
     "name": "stdout",
     "output_type": "stream",
     "text": [
      "📄 Processing: translations_llama-3.1-8b-instant_cs-en.csv | Model: llama-3.1-8b-instant | Lang Pair: cs-en\n"
     ]
    },
    {
     "name": "stderr",
     "output_type": "stream",
     "text": [
      "Detecting Biases: 100%|███████████████████████| 100/100 [00:02<00:00, 36.78it/s]\n"
     ]
    },
    {
     "name": "stdout",
     "output_type": "stream",
     "text": [
      "📄 Processing: translations_llama-3.2-90b-vision-preview_gu-en.csv | Model: llama-3.2-90b-vision-preview | Lang Pair: gu-en\n"
     ]
    },
    {
     "name": "stderr",
     "output_type": "stream",
     "text": [
      "Detecting Biases: 100%|███████████████████████| 100/100 [00:02<00:00, 36.96it/s]\n"
     ]
    },
    {
     "name": "stdout",
     "output_type": "stream",
     "text": [
      "📄 Processing: translations_mixtral-8x7b-32768_gu-en.csv | Model: mixtral-8x7b-32768 | Lang Pair: gu-en\n"
     ]
    },
    {
     "name": "stderr",
     "output_type": "stream",
     "text": [
      "Detecting Biases: 100%|███████████████████████| 100/100 [00:02<00:00, 35.69it/s]\n"
     ]
    },
    {
     "name": "stdout",
     "output_type": "stream",
     "text": [
      "📄 Processing: translations_llama3-groq-8b-8192-tool-use-preview_zh-en.csv | Model: llama3-groq-8b-8192-tool-use-preview | Lang Pair: zh-en\n"
     ]
    },
    {
     "name": "stderr",
     "output_type": "stream",
     "text": [
      "Detecting Biases: 100%|███████████████████████| 100/100 [00:03<00:00, 29.83it/s]\n"
     ]
    },
    {
     "name": "stdout",
     "output_type": "stream",
     "text": [
      "📄 Processing: translations_llama3-groq-8b-8192-tool-use-preview_gu-en.csv | Model: llama3-groq-8b-8192-tool-use-preview | Lang Pair: gu-en\n"
     ]
    },
    {
     "name": "stderr",
     "output_type": "stream",
     "text": [
      "Detecting Biases: 100%|███████████████████████| 100/100 [00:02<00:00, 34.99it/s]\n"
     ]
    },
    {
     "name": "stdout",
     "output_type": "stream",
     "text": [
      "📄 Processing: translations_llama-3.1-70b-versatile_zh-en.csv | Model: llama-3.1-70b-versatile | Lang Pair: zh-en\n"
     ]
    },
    {
     "name": "stderr",
     "output_type": "stream",
     "text": [
      "Detecting Biases: 100%|███████████████████████| 100/100 [00:03<00:00, 29.96it/s]\n"
     ]
    },
    {
     "name": "stdout",
     "output_type": "stream",
     "text": [
      "📄 Processing: translations_llama3-groq-70b-8192-tool-use-preview_et-en.csv | Model: llama3-groq-70b-8192-tool-use-preview | Lang Pair: et-en\n"
     ]
    },
    {
     "name": "stderr",
     "output_type": "stream",
     "text": [
      "Detecting Biases: 100%|███████████████████████| 100/100 [00:02<00:00, 38.38it/s]\n"
     ]
    },
    {
     "name": "stdout",
     "output_type": "stream",
     "text": [
      "📄 Processing: translations_llama-3.1-70b-versatile_cs-en.csv | Model: llama-3.1-70b-versatile | Lang Pair: cs-en\n"
     ]
    },
    {
     "name": "stderr",
     "output_type": "stream",
     "text": [
      "Detecting Biases: 100%|███████████████████████| 100/100 [00:02<00:00, 37.96it/s]\n"
     ]
    },
    {
     "name": "stdout",
     "output_type": "stream",
     "text": [
      "📄 Processing: translations_llama-3.2-90b-vision-preview_et-en.csv | Model: llama-3.2-90b-vision-preview | Lang Pair: et-en\n"
     ]
    },
    {
     "name": "stderr",
     "output_type": "stream",
     "text": [
      "Detecting Biases: 100%|███████████████████████| 100/100 [00:02<00:00, 38.64it/s]\n"
     ]
    },
    {
     "name": "stdout",
     "output_type": "stream",
     "text": [
      "📄 Processing: translations_llama-3.1-70b-versatile_lt-en.csv | Model: llama-3.1-70b-versatile | Lang Pair: lt-en\n"
     ]
    },
    {
     "name": "stderr",
     "output_type": "stream",
     "text": [
      "Detecting Biases: 100%|███████████████████████| 100/100 [00:02<00:00, 35.44it/s]\n"
     ]
    },
    {
     "name": "stdout",
     "output_type": "stream",
     "text": [
      "📄 Processing: translations_gemma2-9b-it_gu-en.csv | Model: gemma2-9b-it | Lang Pair: gu-en\n"
     ]
    },
    {
     "name": "stderr",
     "output_type": "stream",
     "text": [
      "Detecting Biases: 100%|███████████████████████| 100/100 [00:03<00:00, 31.92it/s]\n"
     ]
    },
    {
     "name": "stdout",
     "output_type": "stream",
     "text": [
      "📄 Processing: translations_gemma-7b-it_fi-en.csv | Model: gemma-7b-it | Lang Pair: fi-en\n"
     ]
    },
    {
     "name": "stderr",
     "output_type": "stream",
     "text": [
      "Detecting Biases: 100%|███████████████████████| 100/100 [00:02<00:00, 36.08it/s]\n"
     ]
    },
    {
     "name": "stdout",
     "output_type": "stream",
     "text": [
      "📄 Processing: translations_mixtral-8x7b-32768_et-en.csv | Model: mixtral-8x7b-32768 | Lang Pair: et-en\n"
     ]
    },
    {
     "name": "stderr",
     "output_type": "stream",
     "text": [
      "Detecting Biases: 100%|███████████████████████| 100/100 [00:03<00:00, 30.72it/s]\n"
     ]
    },
    {
     "name": "stdout",
     "output_type": "stream",
     "text": [
      "📄 Processing: translations_llama3-groq-8b-8192-tool-use-preview_et-en.csv | Model: llama3-groq-8b-8192-tool-use-preview | Lang Pair: et-en\n"
     ]
    },
    {
     "name": "stderr",
     "output_type": "stream",
     "text": [
      "Detecting Biases: 100%|███████████████████████| 100/100 [00:02<00:00, 36.42it/s]\n"
     ]
    },
    {
     "name": "stdout",
     "output_type": "stream",
     "text": [
      "📄 Processing: translations_llama-3.2-90b-vision-preview_cs-en.csv | Model: llama-3.2-90b-vision-preview | Lang Pair: cs-en\n"
     ]
    },
    {
     "name": "stderr",
     "output_type": "stream",
     "text": [
      "Detecting Biases: 100%|███████████████████████| 100/100 [00:02<00:00, 37.92it/s]\n"
     ]
    },
    {
     "name": "stdout",
     "output_type": "stream",
     "text": [
      "📄 Processing: translations_llama3-groq-70b-8192-tool-use-preview_gu-en.csv | Model: llama3-groq-70b-8192-tool-use-preview | Lang Pair: gu-en\n"
     ]
    },
    {
     "name": "stderr",
     "output_type": "stream",
     "text": [
      "Detecting Biases: 100%|███████████████████████| 100/100 [00:02<00:00, 36.54it/s]\n"
     ]
    },
    {
     "name": "stdout",
     "output_type": "stream",
     "text": [
      "📄 Processing: translations_gemma-7b-it_bn-en.csv | Model: gemma-7b-it | Lang Pair: bn-en\n"
     ]
    },
    {
     "name": "stderr",
     "output_type": "stream",
     "text": [
      "Detecting Biases: 100%|███████████████████████| 100/100 [00:02<00:00, 36.33it/s]\n"
     ]
    },
    {
     "name": "stdout",
     "output_type": "stream",
     "text": [
      "📄 Processing: translations_llama3-groq-8b-8192-tool-use-preview_fi-en.csv | Model: llama3-groq-8b-8192-tool-use-preview | Lang Pair: fi-en\n"
     ]
    },
    {
     "name": "stderr",
     "output_type": "stream",
     "text": [
      "Detecting Biases: 100%|███████████████████████| 100/100 [00:02<00:00, 34.80it/s]\n"
     ]
    },
    {
     "name": "stdout",
     "output_type": "stream",
     "text": [
      "📄 Processing: translations_gemma2-9b-it_lt-en.csv | Model: gemma2-9b-it | Lang Pair: lt-en\n"
     ]
    },
    {
     "name": "stderr",
     "output_type": "stream",
     "text": [
      "Detecting Biases: 100%|███████████████████████| 100/100 [00:03<00:00, 32.31it/s]\n"
     ]
    },
    {
     "name": "stdout",
     "output_type": "stream",
     "text": [
      "📄 Processing: translations_gemma-7b-it_gu-en.csv | Model: gemma-7b-it | Lang Pair: gu-en\n"
     ]
    },
    {
     "name": "stderr",
     "output_type": "stream",
     "text": [
      "Detecting Biases: 100%|███████████████████████| 100/100 [00:02<00:00, 36.54it/s]\n"
     ]
    },
    {
     "name": "stdout",
     "output_type": "stream",
     "text": [
      "📄 Processing: translations_llama-3.1-70b-versatile_kk-en.csv | Model: llama-3.1-70b-versatile | Lang Pair: kk-en\n"
     ]
    },
    {
     "name": "stderr",
     "output_type": "stream",
     "text": [
      "Detecting Biases: 100%|███████████████████████| 100/100 [00:02<00:00, 33.39it/s]\n"
     ]
    },
    {
     "name": "stdout",
     "output_type": "stream",
     "text": [
      "📄 Processing: translations_llama-3.1-8b-instant_bn-en.csv | Model: llama-3.1-8b-instant | Lang Pair: bn-en\n"
     ]
    },
    {
     "name": "stderr",
     "output_type": "stream",
     "text": [
      "Detecting Biases: 100%|███████████████████████| 100/100 [00:02<00:00, 35.62it/s]\n"
     ]
    },
    {
     "name": "stdout",
     "output_type": "stream",
     "text": [
      "📄 Processing: translations_mixtral-8x7b-32768_fi-en.csv | Model: mixtral-8x7b-32768 | Lang Pair: fi-en\n"
     ]
    },
    {
     "name": "stderr",
     "output_type": "stream",
     "text": [
      "Detecting Biases: 100%|███████████████████████| 100/100 [00:03<00:00, 30.48it/s]\n"
     ]
    },
    {
     "name": "stdout",
     "output_type": "stream",
     "text": [
      "📄 Processing: translations_llama-3.1-70b-versatile_bn-en.csv | Model: llama-3.1-70b-versatile | Lang Pair: bn-en\n"
     ]
    },
    {
     "name": "stderr",
     "output_type": "stream",
     "text": [
      "Detecting Biases: 100%|███████████████████████| 100/100 [00:02<00:00, 37.55it/s]\n"
     ]
    },
    {
     "name": "stdout",
     "output_type": "stream",
     "text": [
      "📄 Processing: translations_llama3-groq-70b-8192-tool-use-preview_kk-en.csv | Model: llama3-groq-70b-8192-tool-use-preview | Lang Pair: kk-en\n"
     ]
    },
    {
     "name": "stderr",
     "output_type": "stream",
     "text": [
      "Detecting Biases: 100%|███████████████████████| 100/100 [00:03<00:00, 33.06it/s]\n"
     ]
    },
    {
     "name": "stdout",
     "output_type": "stream",
     "text": [
      "📄 Processing: translations_llama3-groq-70b-8192-tool-use-preview_tr-en.csv | Model: llama3-groq-70b-8192-tool-use-preview | Lang Pair: tr-en\n"
     ]
    },
    {
     "name": "stderr",
     "output_type": "stream",
     "text": [
      "Detecting Biases: 100%|███████████████████████| 100/100 [00:02<00:00, 35.28it/s]\n"
     ]
    },
    {
     "name": "stdout",
     "output_type": "stream",
     "text": [
      "📄 Processing: translations_mixtral-8x7b-32768_bn-en.csv | Model: mixtral-8x7b-32768 | Lang Pair: bn-en\n"
     ]
    },
    {
     "name": "stderr",
     "output_type": "stream",
     "text": [
      "Detecting Biases: 100%|███████████████████████| 100/100 [00:02<00:00, 35.10it/s]\n"
     ]
    },
    {
     "name": "stdout",
     "output_type": "stream",
     "text": [
      "📄 Processing: translations_gemma2-9b-it_cs-en.csv | Model: gemma2-9b-it | Lang Pair: cs-en\n"
     ]
    },
    {
     "name": "stderr",
     "output_type": "stream",
     "text": [
      "Detecting Biases: 100%|███████████████████████| 100/100 [00:02<00:00, 34.00it/s]\n"
     ]
    },
    {
     "name": "stdout",
     "output_type": "stream",
     "text": [
      "📄 Processing: translations_llama-3.1-8b-instant_et-en.csv | Model: llama-3.1-8b-instant | Lang Pair: et-en\n"
     ]
    },
    {
     "name": "stderr",
     "output_type": "stream",
     "text": [
      "Detecting Biases: 100%|███████████████████████| 100/100 [00:02<00:00, 35.64it/s]\n"
     ]
    },
    {
     "name": "stdout",
     "output_type": "stream",
     "text": [
      "📄 Processing: translations_mixtral-8x7b-32768_tr-en.csv | Model: mixtral-8x7b-32768 | Lang Pair: tr-en\n"
     ]
    },
    {
     "name": "stderr",
     "output_type": "stream",
     "text": [
      "Detecting Biases: 100%|███████████████████████| 100/100 [00:02<00:00, 33.37it/s]\n"
     ]
    },
    {
     "name": "stdout",
     "output_type": "stream",
     "text": [
      "📄 Processing: translations_gemma-7b-it_tr-en.csv | Model: gemma-7b-it | Lang Pair: tr-en\n"
     ]
    },
    {
     "name": "stderr",
     "output_type": "stream",
     "text": [
      "Detecting Biases: 100%|█████████████████████████| 99/99 [00:02<00:00, 36.98it/s]\n"
     ]
    },
    {
     "name": "stdout",
     "output_type": "stream",
     "text": [
      "📄 Processing: translations_gemma-7b-it_lt-en.csv | Model: gemma-7b-it | Lang Pair: lt-en\n"
     ]
    },
    {
     "name": "stderr",
     "output_type": "stream",
     "text": [
      "Detecting Biases: 100%|███████████████████████| 100/100 [00:02<00:00, 35.20it/s]\n"
     ]
    },
    {
     "name": "stdout",
     "output_type": "stream",
     "text": [
      "📄 Processing: translations_llama-3.2-90b-vision-preview_zh-en.csv | Model: llama-3.2-90b-vision-preview | Lang Pair: zh-en\n"
     ]
    },
    {
     "name": "stderr",
     "output_type": "stream",
     "text": [
      "Detecting Biases: 100%|███████████████████████| 100/100 [00:03<00:00, 29.93it/s]\n"
     ]
    },
    {
     "name": "stdout",
     "output_type": "stream",
     "text": [
      "📄 Processing: translations_llama-3.2-90b-vision-preview_tr-en.csv | Model: llama-3.2-90b-vision-preview | Lang Pair: tr-en\n"
     ]
    },
    {
     "name": "stderr",
     "output_type": "stream",
     "text": [
      "Detecting Biases: 100%|███████████████████████| 100/100 [00:02<00:00, 36.83it/s]\n"
     ]
    },
    {
     "name": "stdout",
     "output_type": "stream",
     "text": [
      "📄 Processing: translations_llama-3.2-90b-vision-preview_ru-en.csv | Model: llama-3.2-90b-vision-preview | Lang Pair: ru-en\n"
     ]
    },
    {
     "name": "stderr",
     "output_type": "stream",
     "text": [
      "Detecting Biases: 100%|███████████████████████| 100/100 [00:02<00:00, 34.16it/s]\n"
     ]
    },
    {
     "name": "stdout",
     "output_type": "stream",
     "text": [
      "📄 Processing: translations_llama3-groq-70b-8192-tool-use-preview_ru-en.csv | Model: llama3-groq-70b-8192-tool-use-preview | Lang Pair: ru-en\n"
     ]
    },
    {
     "name": "stderr",
     "output_type": "stream",
     "text": [
      "Detecting Biases: 100%|███████████████████████| 100/100 [00:02<00:00, 33.40it/s]\n"
     ]
    },
    {
     "name": "stdout",
     "output_type": "stream",
     "text": [
      "📄 Processing: translations_gemma2-9b-it_ru-en.csv | Model: gemma2-9b-it | Lang Pair: ru-en\n"
     ]
    },
    {
     "name": "stderr",
     "output_type": "stream",
     "text": [
      "Detecting Biases: 100%|███████████████████████| 100/100 [00:03<00:00, 32.01it/s]\n"
     ]
    },
    {
     "name": "stdout",
     "output_type": "stream",
     "text": [
      "📄 Processing: translations_llama-3.1-70b-versatile_et-en.csv | Model: llama-3.1-70b-versatile | Lang Pair: et-en\n"
     ]
    },
    {
     "name": "stderr",
     "output_type": "stream",
     "text": [
      "Detecting Biases: 100%|███████████████████████| 100/100 [00:02<00:00, 37.61it/s]\n"
     ]
    },
    {
     "name": "stdout",
     "output_type": "stream",
     "text": [
      "📄 Processing: translations_gemma2-9b-it_de-en.csv | Model: gemma2-9b-it | Lang Pair: de-en\n"
     ]
    },
    {
     "name": "stderr",
     "output_type": "stream",
     "text": [
      "Detecting Biases: 100%|███████████████████████| 100/100 [00:03<00:00, 30.89it/s]\n"
     ]
    },
    {
     "name": "stdout",
     "output_type": "stream",
     "text": [
      "📄 Processing: translations_gemma2-9b-it_fi-en.csv | Model: gemma2-9b-it | Lang Pair: fi-en\n"
     ]
    },
    {
     "name": "stderr",
     "output_type": "stream",
     "text": [
      "Detecting Biases: 100%|███████████████████████| 100/100 [00:03<00:00, 32.64it/s]\n"
     ]
    },
    {
     "name": "stdout",
     "output_type": "stream",
     "text": [
      "📄 Processing: translations_gemma2-9b-it_kk-en.csv | Model: gemma2-9b-it | Lang Pair: kk-en\n"
     ]
    },
    {
     "name": "stderr",
     "output_type": "stream",
     "text": [
      "Detecting Biases: 100%|███████████████████████| 100/100 [00:03<00:00, 26.00it/s]\n"
     ]
    },
    {
     "name": "stdout",
     "output_type": "stream",
     "text": [
      "📄 Processing: translations_llama3-groq-8b-8192-tool-use-preview_de-en.csv | Model: llama3-groq-8b-8192-tool-use-preview | Lang Pair: de-en\n"
     ]
    },
    {
     "name": "stderr",
     "output_type": "stream",
     "text": [
      "Detecting Biases: 100%|███████████████████████| 100/100 [00:02<00:00, 34.34it/s]\n"
     ]
    },
    {
     "name": "stdout",
     "output_type": "stream",
     "text": [
      "📄 Processing: translations_gemma-7b-it_zh-en.csv | Model: gemma-7b-it | Lang Pair: zh-en\n"
     ]
    },
    {
     "name": "stderr",
     "output_type": "stream",
     "text": [
      "Detecting Biases: 100%|█████████████████████████| 99/99 [00:03<00:00, 29.96it/s]\n"
     ]
    },
    {
     "name": "stdout",
     "output_type": "stream",
     "text": [
      "📄 Processing: translations_mixtral-8x7b-32768_kk-en.csv | Model: mixtral-8x7b-32768 | Lang Pair: kk-en\n"
     ]
    },
    {
     "name": "stderr",
     "output_type": "stream",
     "text": [
      "Detecting Biases: 100%|███████████████████████| 100/100 [00:03<00:00, 30.49it/s]\n"
     ]
    },
    {
     "name": "stdout",
     "output_type": "stream",
     "text": [
      "📄 Processing: translations_llama-3.2-90b-vision-preview_fi-en.csv | Model: llama-3.2-90b-vision-preview | Lang Pair: fi-en\n"
     ]
    },
    {
     "name": "stderr",
     "output_type": "stream",
     "text": [
      "Detecting Biases: 100%|███████████████████████| 100/100 [00:02<00:00, 35.92it/s]\n"
     ]
    },
    {
     "name": "stdout",
     "output_type": "stream",
     "text": [
      "📄 Processing: translations_llama-3.1-8b-instant_kk-en.csv | Model: llama-3.1-8b-instant | Lang Pair: kk-en\n"
     ]
    },
    {
     "name": "stderr",
     "output_type": "stream",
     "text": [
      "Detecting Biases: 100%|███████████████████████| 100/100 [00:04<00:00, 24.00it/s]\n"
     ]
    },
    {
     "name": "stdout",
     "output_type": "stream",
     "text": [
      "📄 Processing: translations_gemma-7b-it_et-en.csv | Model: gemma-7b-it | Lang Pair: et-en\n"
     ]
    },
    {
     "name": "stderr",
     "output_type": "stream",
     "text": [
      "Detecting Biases: 100%|███████████████████████| 100/100 [00:02<00:00, 37.08it/s]\n"
     ]
    },
    {
     "name": "stdout",
     "output_type": "stream",
     "text": [
      "📄 Processing: translations_llama-3.1-8b-instant_fi-en.csv | Model: llama-3.1-8b-instant | Lang Pair: fi-en\n"
     ]
    },
    {
     "name": "stderr",
     "output_type": "stream",
     "text": [
      "Detecting Biases: 100%|███████████████████████| 100/100 [00:02<00:00, 33.68it/s]\n"
     ]
    },
    {
     "name": "stdout",
     "output_type": "stream",
     "text": [
      "📄 Processing: translations_gemma2-9b-it_bn-en.csv | Model: gemma2-9b-it | Lang Pair: bn-en\n"
     ]
    },
    {
     "name": "stderr",
     "output_type": "stream",
     "text": [
      "Detecting Biases: 100%|███████████████████████| 100/100 [00:03<00:00, 32.40it/s]\n"
     ]
    },
    {
     "name": "stdout",
     "output_type": "stream",
     "text": [
      "📄 Processing: translations_llama-3.2-90b-vision-preview_bn-en.csv | Model: llama-3.2-90b-vision-preview | Lang Pair: bn-en\n"
     ]
    },
    {
     "name": "stderr",
     "output_type": "stream",
     "text": [
      "Detecting Biases: 100%|███████████████████████| 100/100 [00:02<00:00, 36.80it/s]\n"
     ]
    },
    {
     "name": "stdout",
     "output_type": "stream",
     "text": [
      "📄 Processing: translations_gemma-7b-it_de-en.csv | Model: gemma-7b-it | Lang Pair: de-en\n"
     ]
    },
    {
     "name": "stderr",
     "output_type": "stream",
     "text": [
      "Detecting Biases: 100%|█████████████████████████| 99/99 [00:02<00:00, 35.04it/s]\n"
     ]
    },
    {
     "name": "stdout",
     "output_type": "stream",
     "text": [
      "📄 Processing: translations_llama-3.1-8b-instant_ru-en.csv | Model: llama-3.1-8b-instant | Lang Pair: ru-en\n"
     ]
    },
    {
     "name": "stderr",
     "output_type": "stream",
     "text": [
      "Detecting Biases: 100%|███████████████████████| 100/100 [00:03<00:00, 31.79it/s]\n"
     ]
    },
    {
     "name": "stdout",
     "output_type": "stream",
     "text": [
      "📄 Processing: translations_llama-3.1-70b-versatile_gu-en.csv | Model: llama-3.1-70b-versatile | Lang Pair: gu-en\n"
     ]
    },
    {
     "name": "stderr",
     "output_type": "stream",
     "text": [
      "Detecting Biases: 100%|███████████████████████| 100/100 [00:02<00:00, 36.19it/s]\n"
     ]
    },
    {
     "name": "stdout",
     "output_type": "stream",
     "text": [
      "📄 Processing: translations_mixtral-8x7b-32768_zh-en.csv | Model: mixtral-8x7b-32768 | Lang Pair: zh-en\n"
     ]
    },
    {
     "name": "stderr",
     "output_type": "stream",
     "text": [
      "Detecting Biases: 100%|███████████████████████| 100/100 [00:03<00:00, 28.89it/s]\n"
     ]
    },
    {
     "name": "stdout",
     "output_type": "stream",
     "text": [
      "📄 Processing: translations_llama3-groq-8b-8192-tool-use-preview_ru-en.csv | Model: llama3-groq-8b-8192-tool-use-preview | Lang Pair: ru-en\n"
     ]
    },
    {
     "name": "stderr",
     "output_type": "stream",
     "text": [
      "Detecting Biases: 100%|███████████████████████| 100/100 [00:03<00:00, 32.94it/s]"
     ]
    },
    {
     "name": "stdout",
     "output_type": "stream",
     "text": [
      "✅ All done! Output saved to: enhanced_bias_report_all_languages.csv\n"
     ]
    },
    {
     "name": "stderr",
     "output_type": "stream",
     "text": [
      "\n"
     ]
    }
   ],
   "source": [
    "import pandas as pd\n",
    "import numpy as np\n",
    "import os\n",
    "import re\n",
    "import ast\n",
    "import nltk\n",
    "import spacy\n",
    "from tqdm import tqdm\n",
    "from collections import defaultdict\n",
    "from nltk.tokenize import word_tokenize\n",
    "from sklearn.metrics import pairwise_distances\n",
    "from sentence_transformers import SentenceTransformer, util\n",
    "\n",
    "# Download the necessary resource for tokenization\n",
    "nltk.download('punkt')\n",
    "nltk.download('punkt_tab')  # Download the missing resource\n",
    "\n",
    "# Load Models\n",
    "embedding_model = SentenceTransformer('all-MiniLM-L6-v2', device='cpu')\n",
    "nlp = spacy.load(\"en_core_web_sm\")\n",
    "\n",
    "# Bias-related keyword sets (EN)\n",
    "bias_keywords = {\n",
    "    'gender': [\n",
    "        'he', 'she', 'him', 'her', 'his', 'hers', 'man', 'woman', 'men', 'women',\n",
    "        'boy', 'girl', 'father', 'mother', 'son', 'daughter', 'husband', 'wife',\n",
    "        'housewife', 'businessman', 'businesswoman', 'nurse', 'doctor', 'engineer',\n",
    "        'secretary', 'maid', 'boss', 'career woman', 'female scientist', 'male nurse'\n",
    "    ],\n",
    "    'religion': [\n",
    "        'allah', 'god', 'jesus', 'hindu', 'muslim', 'islam', 'christian', 'jewish', 'buddhist',\n",
    "        'temple', 'church', 'mosque', 'synagogue', 'bible', 'quran', 'torah', 'prayer', 'imam', 'pastor'\n",
    "    ],\n",
    "    'cultural': [\n",
    "        'sari', 'kimono', 'turban', 'hijab', 'eid', 'diwali', 'holi', 'puja', 'christmas', 'ramadan',\n",
    "        'thanksgiving', 'new year', 'rice', 'curry', 'tea', 'sushi', 'taco', 'noodle', 'chopstick', 'yoga'\n",
    "    ],\n",
    "    'social': [\n",
    "        'servant', 'maid', 'butler', 'rich', 'poor', 'slum', 'elite', 'working class', 'laborer',\n",
    "        'billionaire', 'landlord', 'tenant', 'beggar', 'homeless', 'upper class', 'middle class', 'underprivileged'\n",
    "    ],\n",
    "    'racial': [\n",
    "        'white', 'black', 'brown', 'asian', 'african', 'european', 'latino', 'hispanic', 'indian',\n",
    "        'caucasian', 'arab', 'chinese', 'japanese', 'ethiopian', 'native', 'indigenous', 'mestizo'\n",
    "    ]\n",
    "}\n",
    "\n",
    "\n",
    "entity_bias_mapping = {\n",
    "    'NORP': 'sociocultural',  # Nationalities, religious groups, political groups — could relate to cultural, religious, or ethnic bias\n",
    "    'RELIGION': 'religion',  # Explicit mention of religion may signal religious bias\n",
    "    'ETHNICITY': 'racial',  # Refers to ethnic group membership, could suggest racial bias\n",
    "    'GPE': 'cultural',  # Countries, cities, states — may suggest cultural or geopolitical bias\n",
    "    'LANGUAGE': 'cultural'  # Language mentions might indicate cultural assumptions or stereotypes\n",
    "}\n",
    "\n",
    "\n",
    "# Text preprocessing\n",
    "def preprocess(text):\n",
    "    return re.sub(r'[^\\w\\s]', '', str(text).lower().strip())\n",
    "\n",
    "# Get Embedding\n",
    "def get_embeddings(text):\n",
    "    return embedding_model.encode([text])[0]\n",
    "\n",
    "# Calculate cosine similarity\n",
    "def calculate_cosine_similarity(vec1, vec2):\n",
    "    return 1 - pairwise_distances([vec1], [vec2], metric='cosine')[0][0]\n",
    "\n",
    "# Advanced Bias Detection\n",
    "def detect_biases_advanced(reference, translation):\n",
    "    biases_found = []\n",
    "\n",
    "    # Named Entity Recognition (NER) bias detection\n",
    "    ref_doc = nlp(reference)\n",
    "    trans_doc = nlp(translation)\n",
    "\n",
    "    ref_ents = set((ent.text.lower(), ent.label_) for ent in ref_doc.ents)\n",
    "    trans_ents = set((ent.text.lower(), ent.label_) for ent in trans_doc.ents)\n",
    "\n",
    "    new_entities = trans_ents - ref_ents\n",
    "\n",
    "    for entity_text, entity_label in new_entities:\n",
    "        if entity_label in entity_bias_mapping:\n",
    "            biases_found.append(entity_bias_mapping[entity_label])\n",
    "\n",
    "    # Keyword Matching bias detection\n",
    "    ref_words = reference.lower().split()\n",
    "    trans_words = translation.lower().split()\n",
    "\n",
    "    for bias_type, keywords in bias_keywords.items():\n",
    "        for word in keywords:\n",
    "            if (word in trans_words) and (word not in ref_words):\n",
    "                biases_found.append(bias_type)\n",
    "    \n",
    "    return list(set(biases_found))  # Remove duplicates\n",
    "\n",
    "directory = \"./wmt\"\n",
    "\n",
    "# Check if directory exists\n",
    "if not os.path.exists(directory):\n",
    "    raise FileNotFoundError(f\"❌ Directory not found: {directory}\")\n",
    "\n",
    "all_outputs = []\n",
    "\n",
    "# Iterate through files inside the directory\n",
    "for file_name in os.listdir(directory):\n",
    "    match = re.match(r\"translations_(.+?)_([a-z]{2,3}-en)\\.csv\", file_name)\n",
    "    if match:\n",
    "        model_name, lang_pair = match.groups()\n",
    "        file_path = os.path.join(directory, file_name)\n",
    "\n",
    "        print(f\"📄 Processing: {file_name} | Model: {model_name} | Lang Pair: {lang_pair}\")\n",
    "\n",
    "        df = pd.read_csv(file_path)\n",
    "        if not all(col in df.columns for col in ['Source', 'Reference', 'Translation']):\n",
    "            print(f\"⚠️ Skipping {file_name}: Missing required columns.\")\n",
    "            continue\n",
    "\n",
    "        # Preprocess text\n",
    "        df['source_clean'] = df['Source'].apply(preprocess)\n",
    "        df['reference_clean'] = df['Reference'].apply(preprocess)\n",
    "        df['translation_clean'] = df['Translation'].apply(preprocess)\n",
    "\n",
    "        # Bias Detection and Similarity Calculation\n",
    "        similarities = []\n",
    "        bias_detected = []\n",
    "\n",
    "        for idx, row in tqdm(df.iterrows(), total=len(df), desc=\"Detecting Biases\"):\n",
    "            ref_emb = get_embeddings(row['Reference'])\n",
    "            trans_emb = get_embeddings(row['Translation'])\n",
    "            sim = calculate_cosine_similarity(ref_emb, trans_emb)\n",
    "            similarities.append(sim)\n",
    "\n",
    "            biases = detect_biases_advanced(row['Reference'], row['Translation'])\n",
    "            bias_detected.append(biases)\n",
    "\n",
    "        df['similarity'] = similarities\n",
    "        df['bias_flags'] = bias_detected\n",
    "        df['model_name'] = model_name\n",
    "        df['language_pair'] = lang_pair\n",
    "\n",
    "        # Filter only biased samples\n",
    "        result_df = df[(df['similarity'] < 0.75) & (df['bias_flags'].apply(lambda x: len(x) > 0))]\n",
    "        result_df = result_df[['model_name', 'language_pair', 'Source', 'Reference', 'Translation', 'similarity', 'bias_flags']]\n",
    "        all_outputs.append(result_df)\n",
    "\n",
    "# Combine and save results\n",
    "if all_outputs:\n",
    "    final_df = pd.concat(all_outputs, ignore_index=True)\n",
    "    final_output_path = \"enhanced_bias_report_all_languages.csv\"\n",
    "    final_df.to_csv(final_output_path, index=False)\n",
    "    print(f\"✅ All done! Output saved to: {final_output_path}\")\n",
    "else:\n",
    "    print(\"⚠️ No biased examples found in any files.\")"
   ]
  },
  {
   "cell_type": "code",
   "execution_count": 3,
   "metadata": {},
   "outputs": [
    {
     "name": "stderr",
     "output_type": "stream",
     "text": [
      "Grid Search on Thresholds: 100%|████████████████| 18/18 [00:00<00:00, 26.74it/s]\n"
     ]
    },
    {
     "data": {
      "image/png": "[encoded data removed]",
      "text/plain": [
       "<Figure size 1000x500 with 1 Axes>"
      ]
     },
     "metadata": {},
     "output_type": "display_data"
    },
    {
     "data": {
      "image/png": "[encoded data removed]",
      "text/plain": [
       "<Figure size 1000x500 with 1 Axes>"
      ]
     },
     "metadata": {},
     "output_type": "display_data"
    }
   ],
   "source": [
    "import pandas as pd\n",
    "import matplotlib.pyplot as plt\n",
    "import seaborn as sns\n",
    "from collections import Counter\n",
    "import ast\n",
    "import numpy as np\n",
    "from tqdm import tqdm\n",
    "\n",
    "# -------------------------\n",
    "# 📊 Threshold Analysis\n",
    "# -------------------------\n",
    "\n",
    "# Load processed CSV\n",
    "df = pd.read_csv('enhanced_bias_report_all_languages.csv')\n",
    "df['bias_flags'] = df['bias_flags'].apply(ast.literal_eval)\n",
    "\n",
    "# Thresholds\n",
    "thresholds = np.arange(0.60, 0.96, 0.02)\n",
    "\n",
    "# Evaluation function\n",
    "def evaluate_threshold(df, threshold):\n",
    "    count_per_type = {}\n",
    "    total_flags = 0\n",
    "    \n",
    "    for idx, row in df.iterrows():\n",
    "        if row['similarity'] < threshold:\n",
    "            bias_flags = row['bias_flags']\n",
    "            for bias_type in bias_flags:\n",
    "                count_per_type[bias_type] = count_per_type.get(bias_type, 0) + 1\n",
    "                total_flags += 1\n",
    "    return count_per_type, total_flags\n",
    "\n",
    "# Grid search\n",
    "results = []\n",
    "\n",
    "for threshold in tqdm(thresholds, desc=\"Grid Search on Thresholds\"):\n",
    "    counts, total = evaluate_threshold(df, threshold)\n",
    "    for bias_type, count in counts.items():\n",
    "        results.append({\n",
    "            'threshold': round(threshold, 2),\n",
    "            'bias_type': bias_type,\n",
    "            'count': count,\n",
    "            'total_flags': total\n",
    "        })\n",
    "\n",
    "results_df = pd.DataFrame(results)\n",
    "\n",
    "# 🎨 Visualization: Bias Type Counts by Threshold\n",
    "plt.figure(figsize=(10, 5))\n",
    "sns.lineplot(data=results_df, x='threshold', y='count', hue='bias_type', marker='o')\n",
    "plt.title(\"Bias Type Counts vs Similarity Threshold\")\n",
    "plt.xlabel(\"Similarity Threshold\")\n",
    "plt.ylabel(\"Bias Count\")\n",
    "plt.grid(True)\n",
    "plt.legend(title='Bias Type')\n",
    "plt.tight_layout()\n",
    "plt.savefig(\"per_bias_optimal_threshold_plot.png\", dpi=300)\n",
    "plt.show()\n",
    "\n",
    "# 🎨 Visualization: Total Biases Detected by Threshold\n",
    "total_bias_df = results_df.groupby('threshold')['total_flags'].first().reset_index()\n",
    "\n",
    "plt.figure(figsize=(10, 5))\n",
    "sns.lineplot(data=total_bias_df, x='threshold', y='total_flags', marker='o', color='tomato')\n",
    "plt.title(\"Total Biases Detected vs Threshold\")\n",
    "plt.xlabel(\"Similarity Threshold\")\n",
    "plt.ylabel(\"Total Detected Biases\")\n",
    "plt.grid(True)\n",
    "plt.tight_layout()\n",
    "plt.savefig(\"optimal_threshold_plot.png\", dpi=300)  # 📥 Save figure\n",
    "plt.show()"
   ]
  },
  {
   "cell_type": "code",
   "execution_count": 4,
   "metadata": {},
   "outputs": [
    {
     "name": "stderr",
     "output_type": "stream",
     "text": [
      "100%|███████████████████████████████████████████| 18/18 [00:00<00:00, 28.01it/s]\n"
     ]
    },
    {
     "data": {
      "image/png": "[encoded data removed]",
      "text/plain": [
       "<Figure size 800x400 with 1 Axes>"
      ]
     },
     "metadata": {},
     "output_type": "display_data"
    }
   ],
   "source": [
    "import pandas as pd\n",
    "import numpy as np\n",
    "import matplotlib.pyplot as plt\n",
    "import seaborn as sns\n",
    "import ast\n",
    "from tqdm import tqdm\n",
    "\n",
    "# Load the bias report\n",
    "df = pd.read_csv(\"enhanced_bias_report_all_languages.csv\")\n",
    "df['bias_flags'] = df['bias_flags'].apply(ast.literal_eval)\n",
    "\n",
    "# Set threshold range\n",
    "thresholds = np.arange(0.60, 0.96, 0.02)\n",
    "\n",
    "# Function to count biases per threshold\n",
    "def evaluate_threshold(df, threshold):\n",
    "    count_per_type = {}\n",
    "    for idx, row in df.iterrows():\n",
    "        if row['similarity'] < threshold:\n",
    "            for bias_type in row['bias_flags']:\n",
    "                count_per_type[bias_type] = count_per_type.get(bias_type, 0) + 1\n",
    "    return count_per_type\n",
    "\n",
    "# Grid search for all thresholds\n",
    "results = []\n",
    "for threshold in tqdm(thresholds):\n",
    "    counts = evaluate_threshold(df, threshold)\n",
    "    for bias_type, count in counts.items():\n",
    "        results.append({\n",
    "            'threshold': round(threshold, 2),\n",
    "            'bias_type': bias_type,\n",
    "            'count': count\n",
    "        })\n",
    "\n",
    "results_df = pd.DataFrame(results)\n",
    "\n",
    "# Normalize counts per bias type (to analyze sensitivity)\n",
    "max_counts = results_df.groupby(\"bias_type\")['count'].max().reset_index()\n",
    "max_counts.columns = ['bias_type', 'max_count']\n",
    "\n",
    "results_df = results_df.merge(max_counts, on='bias_type')\n",
    "results_df['normalized'] = results_df['count'] / results_df['max_count']\n",
    "\n",
    "# -----------------------------------------------\n",
    "# 🎨 Plot: Normalized Bias Sensitivity per Type\n",
    "# -----------------------------------------------\n",
    "plt.figure(figsize=(8, 4))\n",
    "sns.lineplot(data=results_df, x='threshold', y='normalized', hue='bias_type', marker='o')\n",
    "plt.title(\"Bias-Type Sensitivity to Similarity Thresholds (Normalized)\")\n",
    "plt.xlabel(\"Similarity Threshold\")\n",
    "plt.ylabel(\"Normalized Bias Detection Rate\")\n",
    "plt.grid(True)\n",
    "plt.legend(title=\"Bias Type\")\n",
    "plt.tight_layout()\n",
    "plt.savefig(\"normalized_optimal_threshold_plot.png\", dpi=300)\n",
    "plt.show()"
   ]
  },
  {
   "cell_type": "code",
   "execution_count": 5,
   "metadata": {},
   "outputs": [
    {
     "name": "stdout",
     "output_type": "stream",
     "text": [
      "\n",
      "📊 Total Bias Type Counts:\n",
      " bias_type\n",
      "cultural         798\n",
      "sociocultural    744\n",
      "gender           265\n",
      "racial            66\n",
      "religion          24\n",
      "social             5\n",
      "Name: count, dtype: int64\n"
     ]
    },
    {
     "data": {
      "image/png": "[encoded data removed]",
      "text/plain": [
       "<Figure size 800x400 with 1 Axes>"
      ]
     },
     "metadata": {},
     "output_type": "display_data"
    },
    {
     "data": {
      "image/png": "[encoded data removed]",
      "text/plain": [
       "<Figure size 800x400 with 2 Axes>"
      ]
     },
     "metadata": {},
     "output_type": "display_data"
    },
    {
     "data": {
      "image/png": "[encoded data removed]",
      "text/plain": [
       "<Figure size 800x400 with 2 Axes>"
      ]
     },
     "metadata": {},
     "output_type": "display_data"
    }
   ],
   "source": [
    "import pandas as pd\n",
    "import matplotlib.pyplot as plt\n",
    "import seaborn as sns\n",
    "from collections import Counter\n",
    "import ast\n",
    "\n",
    "# Load the processed bias report\n",
    "df = pd.read_csv(\"enhanced_bias_report_all_languages.csv\")\n",
    "\n",
    "# Convert string to list if needed\n",
    "df['bias_flags'] = df['bias_flags'].apply(ast.literal_eval)\n",
    "\n",
    "# -------------------------------\n",
    "# 📦 Unpack bias types properly\n",
    "# -------------------------------\n",
    "\n",
    "# No need to extract keys anymore (it’s already a list)\n",
    "df['bias_type'] = df['bias_flags']\n",
    "\n",
    "# Now explode it\n",
    "df_exploded = df.explode('bias_type')\n",
    "\n",
    "# -------------------------------\n",
    "# 📊 Total Bias Type Counts\n",
    "# -------------------------------\n",
    "total_bias_counts = df_exploded['bias_type'].value_counts()\n",
    "print(\"\\n📊 Total Bias Type Counts:\\n\", total_bias_counts)\n",
    "\n",
    "# -------------------------------\n",
    "# 🔍 Grouped by Model\n",
    "# -------------------------------\n",
    "model_bias = df_exploded.groupby(['model_name', 'bias_type']).size().unstack(fill_value=0)\n",
    "\n",
    "# -------------------------------\n",
    "# 🔍 Grouped by Language Pair\n",
    "# -------------------------------\n",
    "lang_bias = df_exploded.groupby(['language_pair', 'bias_type']).size().unstack(fill_value=0)\n",
    "\n",
    "# -------------------------------\n",
    "# 📈 Visualizations\n",
    "# -------------------------------\n",
    "\n",
    "# Basic Bar Plot of Total Bias Types\n",
    "plt.figure(figsize=(8, 4))\n",
    "total_bias_counts.plot(kind='bar', color='salmon', edgecolor='black')\n",
    "plt.title(\"Total Bias Types Across All Translations\")\n",
    "plt.ylabel(\"Count\")\n",
    "plt.xticks(rotation=45)\n",
    "plt.tight_layout()\n",
    "plt.savefig(\"total_bias_types.png\", dpi=300)  # 📥 Save figure\n",
    "plt.show()\n",
    "\n",
    "# Heatmap: Bias by Model\n",
    "plt.figure(figsize=(8, 4))\n",
    "sns.heatmap(model_bias, annot=True, fmt=\"d\", cmap=\"YlOrRd\")\n",
    "plt.title(\"Bias Count by Model and Type\")\n",
    "plt.ylabel(\"Model\")\n",
    "plt.xlabel(\"Bias Type\")\n",
    "plt.tight_layout()\n",
    "plt.savefig(\"bias_by_model.png\", dpi=300)  # 📥 Save figure\n",
    "plt.show()\n",
    "\n",
    "# Heatmap: Bias by Language Pair\n",
    "plt.figure(figsize=(8, 4))\n",
    "sns.heatmap(lang_bias, annot=True, fmt=\"d\", cmap=\"Blues\")\n",
    "plt.title(\"Bias Count by Language Pair and Type\")\n",
    "plt.ylabel(\"Language Pair\")\n",
    "plt.xlabel(\"Bias Type\")\n",
    "plt.tight_layout()\n",
    "plt.savefig(\"bias_by_language_pair.png\", dpi=300)  # 📥 Save figure\n",
    "plt.show()"
   ]
  },
  {
   "cell_type": "code",
   "execution_count": 5,
   "metadata": {},
   "outputs": [
    {
     "name": "stdout",
     "output_type": "stream",
     "text": [
      "=== EXAMPLE OF CULTURAL BIAS ===\n",
      "Similarity    : 0.6172\n",
      "Model         : llama-3.1-70b-versatile\n",
      "Language Pair : de-en\n",
      "Source        : Weidezaunprojekt ist elementar\n",
      "Reference     : Pasture fence project is fundamental\n",
      "Translation   : The translation of the German text to English is:\n",
      "\n",
      "Fence pasture project is elementary\n",
      "Bias Flags    : ['cultural', 'sociocultural']\n",
      "\n",
      "=== EXAMPLE OF GENDER BIAS ===\n",
      "Similarity    : 0.6879\n",
      "Model         : llama-3.1-70b-versatile\n",
      "Language Pair : de-en\n",
      "Source        : Die \"Schwarzwaldmilch\" ist für ihn der alternativlose Vermarktungsweg für die Milch seiner Kühe, so Schwendemann.\n",
      "Reference     : Schwendemann says that, for him, there is no alternative to the \"Black Forest milk\" marketing channel he uses for the milk from his cows.\n",
      "Translation   : \"Schwarzwaldmilch\" is for him the only alternative marketing route for the milk of his cows, according to Schwendemann.\n",
      "Bias Flags    : ['cultural', 'gender']\n",
      "\n",
      "=== EXAMPLE OF RELIGION BIAS ===\n",
      "Similarity    : 0.6921\n",
      "Model         : llama-3.1-70b-versatile\n",
      "Language Pair : ru-en\n",
      "Source        : В Югре появится новый храм\n",
      "Reference     : There will be a new church in Yurga\n",
      "Translation   : A new temple will appear in Yugra.\n",
      "Bias Flags    : ['cultural', 'religion']\n",
      "\n",
      "=== EXAMPLE OF RACIAL BIAS ===\n",
      "Similarity    : 0.7340\n",
      "Model         : llama-3.1-8b-instant\n",
      "Language Pair : zh-en\n",
      "Source        : “2017 年 8 月 28 日生效的 NAACP 密苏里州旅行咨询中呼吁，因近期密苏里州发生了一系列可疑的种族性事件，所有非裔美籍旅行者、游客以及密苏里州人在密苏里州旅行时应特别注意并采取极其谨慎的态度，特此告知，”该团体的声明宣称。\n",
      "Reference     : \"The NAACP Travel Advisory for the state of Missouri, effective through August 28th, 2017, calls for African American travelers, visitors and Missourians to pay special attention and exercise extreme caution when traveling throughout the state given the series of questionable, race-based incidents occurring statewide recently, and noted therein,\" the group's statement reads.\n",
      "Translation   : The translation of the Chinese text to English is:\n",
      "\n",
      "\"The NAACP Missouri Travel Advisory, which went into effect on August 28, 2017, urged caution, citing a series of suspicious racial incidents in Missouri, warning all African American travelers, tourists, and Missourians to exercise extreme vigilance and caution when traveling in Missouri, 'as a warning,' the group's statement claimed.\"\n",
      "\n",
      "Note: NAACP stands for National Association for the Advancement of Colored People.\n",
      "Bias Flags    : ['cultural', 'racial', 'sociocultural']\n",
      "\n",
      "=== EXAMPLE OF SOCIAL BIAS ===\n",
      "Similarity    : 0.6725\n",
      "Model         : gemma-7b-it\n",
      "Language Pair : kk-en\n",
      "Source        : Орталық банктер бұл саясаттың экономикалық шығындарын, атап айтқанда қаржы нарықтарының шектен тыс толып кетуі, жинақтаушы зейнетақы жүйелеріндегі қаржылық жыртықтарды жамау қажеттігі, байлар мен кедейлер арасында теңсіздіктің артуы сияқты мәселелерін толық жоққа шығармайды.\n",
      "Reference     : Central banks do not completely deny the economic costs that these policies imply: exuberance in financial markets, financing gaps in funded pension systems, and deeper wealth inequality, to name just a few.\n",
      "Translation   : Central banks have expressed concerns about the economic implications of this policy, particularly noting the potential for excessive liquidity in the financial market, the accumulation of financial risks in the deposit and lending activities of banks, and the widening gap between the rich and poor.\n",
      "Bias Flags    : ['social']\n",
      "\n"
     ]
    }
   ],
   "source": [
    "import pandas as pd\n",
    "\n",
    "# Load the final output CSV\n",
    "df = pd.read_csv('enhanced_bias_report_all_languages.csv')\n",
    "\n",
    "# Define a mapping from bias flag keyword to example title\n",
    "bias_example_titles = {\n",
    "    'gender': '=== EXAMPLE OF GENDER BIAS ===',\n",
    "    'racial': '=== EXAMPLE OF RACIAL BIAS ===',\n",
    "    'religion': '=== EXAMPLE OF RELIGION BIAS ===',\n",
    "    'social': '=== EXAMPLE OF SOCIAL BIAS ===',\n",
    "    'cultural': '=== EXAMPLE OF CULTURAL BIAS ==='\n",
    "}\n",
    "\n",
    "# To track if we've already printed an example for a bias type\n",
    "printed_biases = set()\n",
    "\n",
    "# Helper function to clean and parse the bias_flags\n",
    "def extract_bias_types(bias_flags_str):\n",
    "    try:\n",
    "        bias_list = eval(bias_flags_str)\n",
    "        # Extract only the bias type (e.g., 'added: temple' -> 'religion' if temple is religion)\n",
    "        extracted = []\n",
    "        for bias in bias_list:\n",
    "            for bias_type in bias_example_titles.keys():\n",
    "                if bias_type in bias.lower():\n",
    "                    extracted.append(bias_type)\n",
    "        return list(set(extracted))\n",
    "    except:\n",
    "        return []\n",
    "\n",
    "# Go through each row and print the first matching example for each bias type\n",
    "for idx, row in df.iterrows():\n",
    "    bias_types = extract_bias_types(row['bias_flags'])\n",
    "\n",
    "    for bias in bias_types:\n",
    "        if bias not in printed_biases:\n",
    "            print(bias_example_titles[bias])\n",
    "            print(f\"Similarity    : {row['similarity']:.4f}\")\n",
    "            print(f\"Model         : {row['model_name']}\")\n",
    "            print(f\"Language Pair : {row['language_pair']}\")\n",
    "            print(f\"Source        : {row['Source']}\")\n",
    "            print(f\"Reference     : {row['Reference']}\")\n",
    "            print(f\"Translation   : {row['Translation']}\")\n",
    "            print(f\"Bias Flags    : {row['bias_flags']}\")\n",
    "            print()  # Empty line for spacing\n",
    "            printed_biases.add(bias)\n",
    "            break  # Move to the next row after printing one example per bias type\n",
    "\n",
    "# In case no examples found\n",
    "for bias in bias_example_titles.keys():\n",
    "    if bias not in printed_biases:\n",
    "        print(f\"No example found for {bias_example_titles[bias]}\")"
   ]
  },
  {
   "cell_type": "code",
   "execution_count": 6,
   "metadata": {},
   "outputs": [
    {
     "name": "stdout",
     "output_type": "stream",
     "text": [
      "=== EXAMPLE OF GENDER BIAS ===\n",
      "Similarity    : 0.0983\n",
      "Model         : gemma-7b-it\n",
      "Language Pair : lt-en\n",
      "Source        : Tu buvai jo priešas.\n",
      "Reference     : You was against him.\n",
      "Translation   : The translation of the Lithuanian text \"Tu buvai jo priešas.\" to English is \"You were his friend before.\"\n",
      "Bias Flags    : ['cultural', 'gender']\n",
      "\n",
      "=== EXAMPLE OF RACIAL BIAS ===\n",
      "Similarity    : 0.2171\n",
      "Model         : gemma-7b-it\n",
      "Language Pair : kk-en\n",
      "Source        : Біріншіден, Қытай көрсеткіштерді тым ұлғайтып жіберсе ғана мұндай пікірталасты бастаудың жөні бар.\n",
      "Reference     : First, the debate is relevant only if China is increasing the degree to which it overestimates its data.\n",
      "Translation   : Today, the Chinese border guards have escalated tensions by sending troops into the area.\n",
      "Bias Flags    : ['racial', 'sociocultural']\n",
      "\n",
      "=== EXAMPLE OF RELIGION BIAS ===\n",
      "Similarity    : 0.0766\n",
      "Model         : gemma-7b-it\n",
      "Language Pair : gu-en\n",
      "Source        : બનાસ ડેરીના ટેંકર ચાલકોએ કરી હડતાળ, જુઆે વીડિયો\n",
      "Reference     : Banas dairy tanker drivers go on strike, see the video.\n",
      "Translation   : The builders of the Damodar Temple have completed the work of cleaning the temple tank.\n",
      "Bias Flags    : ['religion']\n",
      "\n",
      "=== EXAMPLE OF SOCIAL BIAS ===\n",
      "Similarity    : 0.6421\n",
      "Model         : llama-3.1-8b-instant\n",
      "Language Pair : ru-en\n",
      "Source        : Дело в следующем: в Сингапуре положено, что законы обязаны соблюдать ВСЕ подряд, а не только скромные и небогатые люди.\n",
      "Reference     : Here’s the deal: in Singapore, the rule is that absolutely EVERYONE must obey the laws, not just simple people and those of modest means.\n",
      "Translation   : The issue is as follows: in Singapore, it is customary that ALL laws must be obeyed, not just by modest and poor people.\n",
      "\n",
      "Note: The translation may not fully capture the nuances and tone of the original text, but it conveys the main idea. The phrase \"скромные и небогатые люди\" is used to emphasize that the speaker believes the laws are not equally enforced for everyone, implying that the wealthy and powerful may be exempt from following the laws.\n",
      "Bias Flags    : ['cultural', 'social']\n",
      "\n",
      "=== EXAMPLE OF CULTURAL BIAS ===\n",
      "Similarity    : -0.0874\n",
      "Model         : gemma-7b-it\n",
      "Language Pair : et-en\n",
      "Source        : Pean end vastutavaks.\n",
      "Reference     : I keep myself accountable.\n",
      "Translation   : The provided text is in Estonian and does not make complete sense in that language. Therefore, it cannot be translated into English.\n",
      "Bias Flags    : ['cultural', 'sociocultural']\n",
      "\n"
     ]
    }
   ],
   "source": [
    "import pandas as pd\n",
    "import ast\n",
    "\n",
    "# Load the final output CSV\n",
    "df = pd.read_csv('enhanced_bias_report_all_languages.csv')\n",
    "\n",
    "# Define a mapping from bias flag keyword to example title\n",
    "bias_example_titles = {\n",
    "    'gender': '=== EXAMPLE OF GENDER BIAS ===',\n",
    "    'racial': '=== EXAMPLE OF RACIAL BIAS ===',\n",
    "    'religion': '=== EXAMPLE OF RELIGION BIAS ===',\n",
    "    'social': '=== EXAMPLE OF SOCIAL BIAS ===',\n",
    "    'cultural': '=== EXAMPLE OF CULTURAL BIAS ==='\n",
    "}\n",
    "\n",
    "# Helper function to clean and parse the bias_flags\n",
    "def extract_bias_types(bias_flags_str):\n",
    "    try:\n",
    "        bias_list = ast.literal_eval(bias_flags_str)\n",
    "        extracted = []\n",
    "        for bias in bias_list:\n",
    "            for bias_type in bias_example_titles.keys():\n",
    "                if bias_type in bias.lower():\n",
    "                    extracted.append(bias_type)\n",
    "        return list(set(extracted))\n",
    "    except:\n",
    "        return []\n",
    "\n",
    "# Create a new column with bias types\n",
    "df['bias_type_list'] = df['bias_flags'].apply(extract_bias_types)\n",
    "\n",
    "# Explode to have one bias type per row\n",
    "df_exploded = df.explode('bias_type_list')\n",
    "\n",
    "# Dictionary to hold the lowest similarity example for each bias type\n",
    "examples = {}\n",
    "\n",
    "# Find the lowest similarity example for each bias type\n",
    "for bias_type in bias_example_titles.keys():\n",
    "    filtered = df_exploded[df_exploded['bias_type_list'] == bias_type]\n",
    "    if not filtered.empty:\n",
    "        # Get the row with the lowest similarity\n",
    "        lowest_sim_row = filtered.loc[filtered['similarity'].idxmin()]\n",
    "        examples[bias_type] = lowest_sim_row\n",
    "\n",
    "# Print the examples\n",
    "for bias_type, title in bias_example_titles.items():\n",
    "    if bias_type in examples:\n",
    "        row = examples[bias_type]\n",
    "        print(title)\n",
    "        print(f\"Similarity    : {row['similarity']:.4f}\")\n",
    "        print(f\"Model         : {row['model_name']}\")\n",
    "        print(f\"Language Pair : {row['language_pair']}\")\n",
    "        print(f\"Source        : {row['Source']}\")\n",
    "        print(f\"Reference     : {row['Reference']}\")\n",
    "        print(f\"Translation   : {row['Translation']}\")\n",
    "        print(f\"Bias Flags    : {row['bias_flags']}\")\n",
    "        print()  # Empty line for spacing\n",
    "    else:\n",
    "        print(f\"No example found for {title}\\n\")"
   ]
  }
 ],
 "metadata": {
  "colab": {
   "provenance": []
  },
  "kernelspec": {
   "display_name": "Python 3 (ipykernel)",
   "language": "python",
   "name": "python3"
  },
  "language_info": {
   "codemirror_mode": {
    "name": "ipython",
    "version": 3
   },
   "file_extension": ".py",
   "mimetype": "text/x-python",
   "name": "python",
   "nbconvert_exporter": "python",
   "pygments_lexer": "ipython3",
   "version": "3.12.3"
  },
  "widgets": {
   "application/vnd.jupyter.widget-state+json": {
    "01829f54c0224cf18e1a7dd0bfb9fa4c": {
     "model_module": "@jupyter-widgets/controls",
     "model_module_version": "1.5.0",
     "model_name": "HBoxModel",
     "state": {
      "_dom_classes": [],
      "_model_module": "@jupyter-widgets/controls",
      "_model_module_version": "1.5.0",
      "_model_name": "HBoxModel",
      "_view_count": null,
      "_view_module": "@jupyter-widgets/controls",
      "_view_module_version": "1.5.0",
      "_view_name": "HBoxView",
      "box_style": "",
      "children": [
       "IPY_MODEL_21099caba6eb4c91a283130cf8f8d239",
       "IPY_MODEL_a32a90ee57c4427c95c949d34b78a0dd",
       "IPY_MODEL_0b1f55f93a394a4c83f560742b6ed01f"
      ],
      "layout": "IPY_MODEL_3ad98fc6614e4c458be3c74e30f129f2"
     }
    },
    "0593dd5eac7a457090d91c9eae7f08b6": {
     "model_module": "@jupyter-widgets/controls",
     "model_module_version": "1.5.0",
     "model_name": "HTMLModel",
     "state": {
      "_dom_classes": [],
      "_model_module": "@jupyter-widgets/controls",
      "_model_module_version": "1.5.0",
      "_model_name": "HTMLModel",
      "_view_count": null,
      "_view_module": "@jupyter-widgets/controls",
      "_view_module_version": "1.5.0",
      "_view_name": "HTMLView",
      "description": "",
      "description_tooltip": null,
      "layout": "IPY_MODEL_11d75eaf369145308987048a39302498",
      "placeholder": "​",
      "style": "IPY_MODEL_9d8312a6c5a746d0ab691379e9dba173",
      "value": " 350/350 [00:00&lt;00:00, 28.7kB/s]"
     }
    },
    "05b4fd2d71d9421fa1cc93b950532426": {
     "model_module": "@jupyter-widgets/base",
     "model_module_version": "1.2.0",
     "model_name": "LayoutModel",
     "state": {
      "_model_module": "@jupyter-widgets/base",
      "_model_module_version": "1.2.0",
      "_model_name": "LayoutModel",
      "_view_count": null,
      "_view_module": "@jupyter-widgets/base",
      "_view_module_version": "1.2.0",
      "_view_name": "LayoutView",
      "align_content": null,
      "align_items": null,
      "align_self": null,
      "border": null,
      "bottom": null,
      "display": null,
      "flex": null,
      "flex_flow": null,
      "grid_area": null,
      "grid_auto_columns": null,
      "grid_auto_flow": null,
      "grid_auto_rows": null,
      "grid_column": null,
      "grid_gap": null,
      "grid_row": null,
      "grid_template_areas": null,
      "grid_template_columns": null,
      "grid_template_rows": null,
      "height": null,
      "justify_content": null,
      "justify_items": null,
      "left": null,
      "margin": null,
      "max_height": null,
      "max_width": null,
      "min_height": null,
      "min_width": null,
      "object_fit": null,
      "object_position": null,
      "order": null,
      "overflow": null,
      "overflow_x": null,
      "overflow_y": null,
      "padding": null,
      "right": null,
      "top": null,
      "visibility": null,
      "width": null
     }
    },
    "071423b0121f4c0c826734b9bf3a4df3": {
     "model_module": "@jupyter-widgets/base",
     "model_module_version": "1.2.0",
     "model_name": "LayoutModel",
     "state": {
      "_model_module": "@jupyter-widgets/base",
      "_model_module_version": "1.2.0",
      "_model_name": "LayoutModel",
      "_view_count": null,
      "_view_module": "@jupyter-widgets/base",
      "_view_module_version": "1.2.0",
      "_view_name": "LayoutView",
      "align_content": null,
      "align_items": null,
      "align_self": null,
      "border": null,
      "bottom": null,
      "display": null,
      "flex": null,
      "flex_flow": null,
      "grid_area": null,
      "grid_auto_columns": null,
      "grid_auto_flow": null,
      "grid_auto_rows": null,
      "grid_column": null,
      "grid_gap": null,
      "grid_row": null,
      "grid_template_areas": null,
      "grid_template_columns": null,
      "grid_template_rows": null,
      "height": null,
      "justify_content": null,
      "justify_items": null,
      "left": null,
      "margin": null,
      "max_height": null,
      "max_width": null,
      "min_height": null,
      "min_width": null,
      "object_fit": null,
      "object_position": null,
      "order": null,
      "overflow": null,
      "overflow_x": null,
      "overflow_y": null,
      "padding": null,
      "right": null,
      "top": null,
      "visibility": null,
      "width": null
     }
    },
    "0b1f55f93a394a4c83f560742b6ed01f": {
     "model_module": "@jupyter-widgets/controls",
     "model_module_version": "1.5.0",
     "model_name": "HTMLModel",
     "state": {
      "_dom_classes": [],
      "_model_module": "@jupyter-widgets/controls",
      "_model_module_version": "1.5.0",
      "_model_name": "HTMLModel",
      "_view_count": null,
      "_view_module": "@jupyter-widgets/controls",
      "_view_module_version": "1.5.0",
      "_view_name": "HTMLView",
      "description": "",
      "description_tooltip": null,
      "layout": "IPY_MODEL_44b8331b722e424287d9cd32080028ef",
      "placeholder": "​",
      "style": "IPY_MODEL_4676af75d328404a9996b46de9e8b064",
      "value": " 190/190 [00:00&lt;00:00, 8.63kB/s]"
     }
    },
    "0bc0bbcaea664baa990e11359e505b7f": {
     "model_module": "@jupyter-widgets/base",
     "model_module_version": "1.2.0",
     "model_name": "LayoutModel",
     "state": {
      "_model_module": "@jupyter-widgets/base",
      "_model_module_version": "1.2.0",
      "_model_name": "LayoutModel",
      "_view_count": null,
      "_view_module": "@jupyter-widgets/base",
      "_view_module_version": "1.2.0",
      "_view_name": "LayoutView",
      "align_content": null,
      "align_items": null,
      "align_self": null,
      "border": null,
      "bottom": null,
      "display": null,
      "flex": null,
      "flex_flow": null,
      "grid_area": null,
      "grid_auto_columns": null,
      "grid_auto_flow": null,
      "grid_auto_rows": null,
      "grid_column": null,
      "grid_gap": null,
      "grid_row": null,
      "grid_template_areas": null,
      "grid_template_columns": null,
      "grid_template_rows": null,
      "height": null,
      "justify_content": null,
      "justify_items": null,
      "left": null,
      "margin": null,
      "max_height": null,
      "max_width": null,
      "min_height": null,
      "min_width": null,
      "object_fit": null,
      "object_position": null,
      "order": null,
      "overflow": null,
      "overflow_x": null,
      "overflow_y": null,
      "padding": null,
      "right": null,
      "top": null,
      "visibility": null,
      "width": null
     }
    },
    "0fa70db0aead4f8987cf3d2a38374062": {
     "model_module": "@jupyter-widgets/controls",
     "model_module_version": "1.5.0",
     "model_name": "ProgressStyleModel",
     "state": {
      "_model_module": "@jupyter-widgets/controls",
      "_model_module_version": "1.5.0",
      "_model_name": "ProgressStyleModel",
      "_view_count": null,
      "_view_module": "@jupyter-widgets/base",
      "_view_module_version": "1.2.0",
      "_view_name": "StyleView",
      "bar_color": null,
      "description_width": ""
     }
    },
    "1121c043a0ed4c88a9a54904fe778557": {
     "model_module": "@jupyter-widgets/controls",
     "model_module_version": "1.5.0",
     "model_name": "ProgressStyleModel",
     "state": {
      "_model_module": "@jupyter-widgets/controls",
      "_model_module_version": "1.5.0",
      "_model_name": "ProgressStyleModel",
      "_view_count": null,
      "_view_module": "@jupyter-widgets/base",
      "_view_module_version": "1.2.0",
      "_view_name": "StyleView",
      "bar_color": null,
      "description_width": ""
     }
    },
    "11d75eaf369145308987048a39302498": {
     "model_module": "@jupyter-widgets/base",
     "model_module_version": "1.2.0",
     "model_name": "LayoutModel",
     "state": {
      "_model_module": "@jupyter-widgets/base",
      "_model_module_version": "1.2.0",
      "_model_name": "LayoutModel",
      "_view_count": null,
      "_view_module": "@jupyter-widgets/base",
      "_view_module_version": "1.2.0",
      "_view_name": "LayoutView",
      "align_content": null,
      "align_items": null,
      "align_self": null,
      "border": null,
      "bottom": null,
      "display": null,
      "flex": null,
      "flex_flow": null,
      "grid_area": null,
      "grid_auto_columns": null,
      "grid_auto_flow": null,
      "grid_auto_rows": null,
      "grid_column": null,
      "grid_gap": null,
      "grid_row": null,
      "grid_template_areas": null,
      "grid_template_columns": null,
      "grid_template_rows": null,
      "height": null,
      "justify_content": null,
      "justify_items": null,
      "left": null,
      "margin": null,
      "max_height": null,
      "max_width": null,
      "min_height": null,
      "min_width": null,
      "object_fit": null,
      "object_position": null,
      "order": null,
      "overflow": null,
      "overflow_x": null,
      "overflow_y": null,
      "padding": null,
      "right": null,
      "top": null,
      "visibility": null,
      "width": null
     }
    },
    "12b087de08204cc2af8bd580d752de2e": {
     "model_module": "@jupyter-widgets/controls",
     "model_module_version": "1.5.0",
     "model_name": "HBoxModel",
     "state": {
      "_dom_classes": [],
      "_model_module": "@jupyter-widgets/controls",
      "_model_module_version": "1.5.0",
      "_model_name": "HBoxModel",
      "_view_count": null,
      "_view_module": "@jupyter-widgets/controls",
      "_view_module_version": "1.5.0",
      "_view_name": "HBoxView",
      "box_style": "",
      "children": [
       "IPY_MODEL_1debda2a987043a2bff169b353669982",
       "IPY_MODEL_1f045ada3249481daa8cdbe8b4338ce5",
       "IPY_MODEL_ee9f015555284230bd088beb0652f7e7"
      ],
      "layout": "IPY_MODEL_ce5579fd377449a1be64ecd2bcd6f90d"
     }
    },
    "1328bd3203264802819c9ae83eb79602": {
     "model_module": "@jupyter-widgets/controls",
     "model_module_version": "1.5.0",
     "model_name": "ProgressStyleModel",
     "state": {
      "_model_module": "@jupyter-widgets/controls",
      "_model_module_version": "1.5.0",
      "_model_name": "ProgressStyleModel",
      "_view_count": null,
      "_view_module": "@jupyter-widgets/base",
      "_view_module_version": "1.2.0",
      "_view_name": "StyleView",
      "bar_color": null,
      "description_width": ""
     }
    },
    "13488529444647f8ae5701fa23f01c6b": {
     "model_module": "@jupyter-widgets/controls",
     "model_module_version": "1.5.0",
     "model_name": "HTMLModel",
     "state": {
      "_dom_classes": [],
      "_model_module": "@jupyter-widgets/controls",
      "_model_module_version": "1.5.0",
      "_model_name": "HTMLModel",
      "_view_count": null,
      "_view_module": "@jupyter-widgets/controls",
      "_view_module_version": "1.5.0",
      "_view_name": "HTMLView",
      "description": "",
      "description_tooltip": null,
      "layout": "IPY_MODEL_607efe7c2c7c49258937615cd6c35fd1",
      "placeholder": "​",
      "style": "IPY_MODEL_a6e362a83a574f6b8630bbe43399adaf",
      "value": "modules.json: 100%"
     }
    },
    "15f364f692cd4686bf285dcbcc199335": {
     "model_module": "@jupyter-widgets/controls",
     "model_module_version": "1.5.0",
     "model_name": "ProgressStyleModel",
     "state": {
      "_model_module": "@jupyter-widgets/controls",
      "_model_module_version": "1.5.0",
      "_model_name": "ProgressStyleModel",
      "_view_count": null,
      "_view_module": "@jupyter-widgets/base",
      "_view_module_version": "1.2.0",
      "_view_name": "StyleView",
      "bar_color": null,
      "description_width": ""
     }
    },
    "15f82ed97d8b4e39a4d4e9738761ec83": {
     "model_module": "@jupyter-widgets/controls",
     "model_module_version": "1.5.0",
     "model_name": "HTMLModel",
     "state": {
      "_dom_classes": [],
      "_model_module": "@jupyter-widgets/controls",
      "_model_module_version": "1.5.0",
      "_model_name": "HTMLModel",
      "_view_count": null,
      "_view_module": "@jupyter-widgets/controls",
      "_view_module_version": "1.5.0",
      "_view_name": "HTMLView",
      "description": "",
      "description_tooltip": null,
      "layout": "IPY_MODEL_dad3335c302a46e49610f4f2292f7c41",
      "placeholder": "​",
      "style": "IPY_MODEL_fe9281f31e31446a8b48626329fca0d1",
      "value": "special_tokens_map.json: 100%"
     }
    },
    "19a3f36825824935ba2b2bcb26d63f8b": {
     "model_module": "@jupyter-widgets/controls",
     "model_module_version": "1.5.0",
     "model_name": "FloatProgressModel",
     "state": {
      "_dom_classes": [],
      "_model_module": "@jupyter-widgets/controls",
      "_model_module_version": "1.5.0",
      "_model_name": "FloatProgressModel",
      "_view_count": null,
      "_view_module": "@jupyter-widgets/controls",
      "_view_module_version": "1.5.0",
      "_view_name": "ProgressView",
      "bar_style": "success",
      "description": "",
      "description_tooltip": null,
      "layout": "IPY_MODEL_9bcb10927b2442bdb5d49c88d2c8aea0",
      "max": 350,
      "min": 0,
      "orientation": "horizontal",
      "style": "IPY_MODEL_fad6d39722764e73a76cc5357bc0650b",
      "value": 350
     }
    },
    "1debda2a987043a2bff169b353669982": {
     "model_module": "@jupyter-widgets/controls",
     "model_module_version": "1.5.0",
     "model_name": "HTMLModel",
     "state": {
      "_dom_classes": [],
      "_model_module": "@jupyter-widgets/controls",
      "_model_module_version": "1.5.0",
      "_model_name": "HTMLModel",
      "_view_count": null,
      "_view_module": "@jupyter-widgets/controls",
      "_view_module_version": "1.5.0",
      "_view_name": "HTMLView",
      "description": "",
      "description_tooltip": null,
      "layout": "IPY_MODEL_7d1f0e828f32430b82ceea14f74072db",
      "placeholder": "​",
      "style": "IPY_MODEL_42f0c27598e244dcb843c47f6697139d",
      "value": "vocab.txt: 100%"
     }
    },
    "1f045ada3249481daa8cdbe8b4338ce5": {
     "model_module": "@jupyter-widgets/controls",
     "model_module_version": "1.5.0",
     "model_name": "FloatProgressModel",
     "state": {
      "_dom_classes": [],
      "_model_module": "@jupyter-widgets/controls",
      "_model_module_version": "1.5.0",
      "_model_name": "FloatProgressModel",
      "_view_count": null,
      "_view_module": "@jupyter-widgets/controls",
      "_view_module_version": "1.5.0",
      "_view_name": "ProgressView",
      "bar_style": "success",
      "description": "",
      "description_tooltip": null,
      "layout": "IPY_MODEL_63591fd7c7f348208a6d956a9bd5ebb1",
      "max": 231508,
      "min": 0,
      "orientation": "horizontal",
      "style": "IPY_MODEL_7581b87b896847d1a1c075dd229406d9",
      "value": 231508
     }
    },
    "2040da1502f740f1ade3e240bf2043f3": {
     "model_module": "@jupyter-widgets/controls",
     "model_module_version": "1.5.0",
     "model_name": "HTMLModel",
     "state": {
      "_dom_classes": [],
      "_model_module": "@jupyter-widgets/controls",
      "_model_module_version": "1.5.0",
      "_model_name": "HTMLModel",
      "_view_count": null,
      "_view_module": "@jupyter-widgets/controls",
      "_view_module_version": "1.5.0",
      "_view_name": "HTMLView",
      "description": "",
      "description_tooltip": null,
      "layout": "IPY_MODEL_fe46b68cef3d42a48c38d0996857eaa2",
      "placeholder": "​",
      "style": "IPY_MODEL_8339bfcb5c104892aa19782d14c9de25",
      "value": " 466k/466k [00:00&lt;00:00, 794kB/s]"
     }
    },
    "21099caba6eb4c91a283130cf8f8d239": {
     "model_module": "@jupyter-widgets/controls",
     "model_module_version": "1.5.0",
     "model_name": "HTMLModel",
     "state": {
      "_dom_classes": [],
      "_model_module": "@jupyter-widgets/controls",
      "_model_module_version": "1.5.0",
      "_model_name": "HTMLModel",
      "_view_count": null,
      "_view_module": "@jupyter-widgets/controls",
      "_view_module_version": "1.5.0",
      "_view_name": "HTMLView",
      "description": "",
      "description_tooltip": null,
      "layout": "IPY_MODEL_e5a95773181b4f0fb7ce0f9715c4a182",
      "placeholder": "​",
      "style": "IPY_MODEL_a4cc3564cdbb42749bb355a0a81c16e2",
      "value": "config.json: 100%"
     }
    },
    "26929020c1404c05aac05332a93aa7e4": {
     "model_module": "@jupyter-widgets/controls",
     "model_module_version": "1.5.0",
     "model_name": "FloatProgressModel",
     "state": {
      "_dom_classes": [],
      "_model_module": "@jupyter-widgets/controls",
      "_model_module_version": "1.5.0",
      "_model_name": "FloatProgressModel",
      "_view_count": null,
      "_view_module": "@jupyter-widgets/controls",
      "_view_module_version": "1.5.0",
      "_view_name": "ProgressView",
      "bar_style": "success",
      "description": "",
      "description_tooltip": null,
      "layout": "IPY_MODEL_47feca4e3ec5435b83f54cfcd0ea6d1f",
      "max": 349,
      "min": 0,
      "orientation": "horizontal",
      "style": "IPY_MODEL_8fe7e3d9b0b54d459b94b7452185eed7",
      "value": 349
     }
    },
    "28150ccd5ea34e76b59c4f41dd07578c": {
     "model_module": "@jupyter-widgets/base",
     "model_module_version": "1.2.0",
     "model_name": "LayoutModel",
     "state": {
      "_model_module": "@jupyter-widgets/base",
      "_model_module_version": "1.2.0",
      "_model_name": "LayoutModel",
      "_view_count": null,
      "_view_module": "@jupyter-widgets/base",
      "_view_module_version": "1.2.0",
      "_view_name": "LayoutView",
      "align_content": null,
      "align_items": null,
      "align_self": null,
      "border": null,
      "bottom": null,
      "display": null,
      "flex": null,
      "flex_flow": null,
      "grid_area": null,
      "grid_auto_columns": null,
      "grid_auto_flow": null,
      "grid_auto_rows": null,
      "grid_column": null,
      "grid_gap": null,
      "grid_row": null,
      "grid_template_areas": null,
      "grid_template_columns": null,
      "grid_template_rows": null,
      "height": null,
      "justify_content": null,
      "justify_items": null,
      "left": null,
      "margin": null,
      "max_height": null,
      "max_width": null,
      "min_height": null,
      "min_width": null,
      "object_fit": null,
      "object_position": null,
      "order": null,
      "overflow": null,
      "overflow_x": null,
      "overflow_y": null,
      "padding": null,
      "right": null,
      "top": null,
      "visibility": null,
      "width": null
     }
    },
    "2a32474769d047d5ade703197cec0e94": {
     "model_module": "@jupyter-widgets/controls",
     "model_module_version": "1.5.0",
     "model_name": "DescriptionStyleModel",
     "state": {
      "_model_module": "@jupyter-widgets/controls",
      "_model_module_version": "1.5.0",
      "_model_name": "DescriptionStyleModel",
      "_view_count": null,
      "_view_module": "@jupyter-widgets/base",
      "_view_module_version": "1.2.0",
      "_view_name": "StyleView",
      "description_width": ""
     }
    },
    "2b0cbe84b2ef48329b8f563b6886b369": {
     "model_module": "@jupyter-widgets/controls",
     "model_module_version": "1.5.0",
     "model_name": "HTMLModel",
     "state": {
      "_dom_classes": [],
      "_model_module": "@jupyter-widgets/controls",
      "_model_module_version": "1.5.0",
      "_model_name": "HTMLModel",
      "_view_count": null,
      "_view_module": "@jupyter-widgets/controls",
      "_view_module_version": "1.5.0",
      "_view_name": "HTMLView",
      "description": "",
      "description_tooltip": null,
      "layout": "IPY_MODEL_8d75b2cbd1e14738ae7693045eec2af6",
      "placeholder": "​",
      "style": "IPY_MODEL_5d4e53dc38eb4784bbaad73e77f830d2",
      "value": " 10.5k/10.5k [00:00&lt;00:00, 638kB/s]"
     }
    },
    "2cf75f7be0a5459bbb5e9ebc6e627660": {
     "model_module": "@jupyter-widgets/controls",
     "model_module_version": "1.5.0",
     "model_name": "HBoxModel",
     "state": {
      "_dom_classes": [],
      "_model_module": "@jupyter-widgets/controls",
      "_model_module_version": "1.5.0",
      "_model_name": "HBoxModel",
      "_view_count": null,
      "_view_module": "@jupyter-widgets/controls",
      "_view_module_version": "1.5.0",
      "_view_name": "HBoxView",
      "box_style": "",
      "children": [
       "IPY_MODEL_13488529444647f8ae5701fa23f01c6b",
       "IPY_MODEL_26929020c1404c05aac05332a93aa7e4",
       "IPY_MODEL_5a1e3e4707244067b18a14e244ad7587"
      ],
      "layout": "IPY_MODEL_48ad764f87cd43d790e672dcb682bad8"
     }
    },
    "2d7f1e85461b425a911dd68df22d865f": {
     "model_module": "@jupyter-widgets/controls",
     "model_module_version": "1.5.0",
     "model_name": "DescriptionStyleModel",
     "state": {
      "_model_module": "@jupyter-widgets/controls",
      "_model_module_version": "1.5.0",
      "_model_name": "DescriptionStyleModel",
      "_view_count": null,
      "_view_module": "@jupyter-widgets/base",
      "_view_module_version": "1.2.0",
      "_view_name": "StyleView",
      "description_width": ""
     }
    },
    "2f2dc4983d35407e8f5bae1b7f3ea04a": {
     "model_module": "@jupyter-widgets/controls",
     "model_module_version": "1.5.0",
     "model_name": "HBoxModel",
     "state": {
      "_dom_classes": [],
      "_model_module": "@jupyter-widgets/controls",
      "_model_module_version": "1.5.0",
      "_model_name": "HBoxModel",
      "_view_count": null,
      "_view_module": "@jupyter-widgets/controls",
      "_view_module_version": "1.5.0",
      "_view_name": "HBoxView",
      "box_style": "",
      "children": [
       "IPY_MODEL_a70881726fb74d08ad5db23335da2fd4",
       "IPY_MODEL_3d4a2fff4d394f19b466d5b679183b3d",
       "IPY_MODEL_2b0cbe84b2ef48329b8f563b6886b369"
      ],
      "layout": "IPY_MODEL_5ef697fd373d415cbe70f5b0f15895ba"
     }
    },
    "2f8cfaa858d94e64a89d13c6e09bb6c0": {
     "model_module": "@jupyter-widgets/base",
     "model_module_version": "1.2.0",
     "model_name": "LayoutModel",
     "state": {
      "_model_module": "@jupyter-widgets/base",
      "_model_module_version": "1.2.0",
      "_model_name": "LayoutModel",
      "_view_count": null,
      "_view_module": "@jupyter-widgets/base",
      "_view_module_version": "1.2.0",
      "_view_name": "LayoutView",
      "align_content": null,
      "align_items": null,
      "align_self": null,
      "border": null,
      "bottom": null,
      "display": null,
      "flex": null,
      "flex_flow": null,
      "grid_area": null,
      "grid_auto_columns": null,
      "grid_auto_flow": null,
      "grid_auto_rows": null,
      "grid_column": null,
      "grid_gap": null,
      "grid_row": null,
      "grid_template_areas": null,
      "grid_template_columns": null,
      "grid_template_rows": null,
      "height": null,
      "justify_content": null,
      "justify_items": null,
      "left": null,
      "margin": null,
      "max_height": null,
      "max_width": null,
      "min_height": null,
      "min_width": null,
      "object_fit": null,
      "object_position": null,
      "order": null,
      "overflow": null,
      "overflow_x": null,
      "overflow_y": null,
      "padding": null,
      "right": null,
      "top": null,
      "visibility": null,
      "width": null
     }
    },
    "33e3ee3629d148ebae0e42a09fd4e6dc": {
     "model_module": "@jupyter-widgets/controls",
     "model_module_version": "1.5.0",
     "model_name": "HTMLModel",
     "state": {
      "_dom_classes": [],
      "_model_module": "@jupyter-widgets/controls",
      "_model_module_version": "1.5.0",
      "_model_name": "HTMLModel",
      "_view_count": null,
      "_view_module": "@jupyter-widgets/controls",
      "_view_module_version": "1.5.0",
      "_view_name": "HTMLView",
      "description": "",
      "description_tooltip": null,
      "layout": "IPY_MODEL_8315f1b2ba1b47d4b1402f08f56b428f",
      "placeholder": "​",
      "style": "IPY_MODEL_cc2f886997564d6aae9726d225049ca2",
      "value": "sentence_bert_config.json: 100%"
     }
    },
    "37ab2bfde0e04a5d998e7b500455f209": {
     "model_module": "@jupyter-widgets/controls",
     "model_module_version": "1.5.0",
     "model_name": "HBoxModel",
     "state": {
      "_dom_classes": [],
      "_model_module": "@jupyter-widgets/controls",
      "_model_module_version": "1.5.0",
      "_model_name": "HBoxModel",
      "_view_count": null,
      "_view_module": "@jupyter-widgets/controls",
      "_view_module_version": "1.5.0",
      "_view_name": "HBoxView",
      "box_style": "",
      "children": [
       "IPY_MODEL_7e25343c0c554ba9bf9c4b74aea2585f",
       "IPY_MODEL_19a3f36825824935ba2b2bcb26d63f8b",
       "IPY_MODEL_0593dd5eac7a457090d91c9eae7f08b6"
      ],
      "layout": "IPY_MODEL_99f34192112c46f1b80c3318d84e7e5c"
     }
    },
    "3ad98fc6614e4c458be3c74e30f129f2": {
     "model_module": "@jupyter-widgets/base",
     "model_module_version": "1.2.0",
     "model_name": "LayoutModel",
     "state": {
      "_model_module": "@jupyter-widgets/base",
      "_model_module_version": "1.2.0",
      "_model_name": "LayoutModel",
      "_view_count": null,
      "_view_module": "@jupyter-widgets/base",
      "_view_module_version": "1.2.0",
      "_view_name": "LayoutView",
      "align_content": null,
      "align_items": null,
      "align_self": null,
      "border": null,
      "bottom": null,
      "display": null,
      "flex": null,
      "flex_flow": null,
      "grid_area": null,
      "grid_auto_columns": null,
      "grid_auto_flow": null,
      "grid_auto_rows": null,
      "grid_column": null,
      "grid_gap": null,
      "grid_row": null,
      "grid_template_areas": null,
      "grid_template_columns": null,
      "grid_template_rows": null,
      "height": null,
      "justify_content": null,
      "justify_items": null,
      "left": null,
      "margin": null,
      "max_height": null,
      "max_width": null,
      "min_height": null,
      "min_width": null,
      "object_fit": null,
      "object_position": null,
      "order": null,
      "overflow": null,
      "overflow_x": null,
      "overflow_y": null,
      "padding": null,
      "right": null,
      "top": null,
      "visibility": null,
      "width": null
     }
    },
    "3bcaabcd5d6746b09060d4e4bbe0ba1e": {
     "model_module": "@jupyter-widgets/controls",
     "model_module_version": "1.5.0",
     "model_name": "HBoxModel",
     "state": {
      "_dom_classes": [],
      "_model_module": "@jupyter-widgets/controls",
      "_model_module_version": "1.5.0",
      "_model_name": "HBoxModel",
      "_view_count": null,
      "_view_module": "@jupyter-widgets/controls",
      "_view_module_version": "1.5.0",
      "_view_name": "HBoxView",
      "box_style": "",
      "children": [
       "IPY_MODEL_5895281df33448e2a962f3a16bbb109f",
       "IPY_MODEL_a964bd507cb948308905ec4a1bea50ac",
       "IPY_MODEL_63de4fa845d949738275dbbc6e32d9c0"
      ],
      "layout": "IPY_MODEL_54efe2f780f14d40bc3b9940c22d09c6"
     }
    },
    "3d4a2fff4d394f19b466d5b679183b3d": {
     "model_module": "@jupyter-widgets/controls",
     "model_module_version": "1.5.0",
     "model_name": "FloatProgressModel",
     "state": {
      "_dom_classes": [],
      "_model_module": "@jupyter-widgets/controls",
      "_model_module_version": "1.5.0",
      "_model_name": "FloatProgressModel",
      "_view_count": null,
      "_view_module": "@jupyter-widgets/controls",
      "_view_module_version": "1.5.0",
      "_view_name": "ProgressView",
      "bar_style": "success",
      "description": "",
      "description_tooltip": null,
      "layout": "IPY_MODEL_418375f069a144ff9cab0631a44b4a8f",
      "max": 10454,
      "min": 0,
      "orientation": "horizontal",
      "style": "IPY_MODEL_1121c043a0ed4c88a9a54904fe778557",
      "value": 10454
     }
    },
    "3f21451c855242a383a41a632173bb51": {
     "model_module": "@jupyter-widgets/base",
     "model_module_version": "1.2.0",
     "model_name": "LayoutModel",
     "state": {
      "_model_module": "@jupyter-widgets/base",
      "_model_module_version": "1.2.0",
      "_model_name": "LayoutModel",
      "_view_count": null,
      "_view_module": "@jupyter-widgets/base",
      "_view_module_version": "1.2.0",
      "_view_name": "LayoutView",
      "align_content": null,
      "align_items": null,
      "align_self": null,
      "border": null,
      "bottom": null,
      "display": null,
      "flex": null,
      "flex_flow": null,
      "grid_area": null,
      "grid_auto_columns": null,
      "grid_auto_flow": null,
      "grid_auto_rows": null,
      "grid_column": null,
      "grid_gap": null,
      "grid_row": null,
      "grid_template_areas": null,
      "grid_template_columns": null,
      "grid_template_rows": null,
      "height": null,
      "justify_content": null,
      "justify_items": null,
      "left": null,
      "margin": null,
      "max_height": null,
      "max_width": null,
      "min_height": null,
      "min_width": null,
      "object_fit": null,
      "object_position": null,
      "order": null,
      "overflow": null,
      "overflow_x": null,
      "overflow_y": null,
      "padding": null,
      "right": null,
      "top": null,
      "visibility": null,
      "width": null
     }
    },
    "418375f069a144ff9cab0631a44b4a8f": {
     "model_module": "@jupyter-widgets/base",
     "model_module_version": "1.2.0",
     "model_name": "LayoutModel",
     "state": {
      "_model_module": "@jupyter-widgets/base",
      "_model_module_version": "1.2.0",
      "_model_name": "LayoutModel",
      "_view_count": null,
      "_view_module": "@jupyter-widgets/base",
      "_view_module_version": "1.2.0",
      "_view_name": "LayoutView",
      "align_content": null,
      "align_items": null,
      "align_self": null,
      "border": null,
      "bottom": null,
      "display": null,
      "flex": null,
      "flex_flow": null,
      "grid_area": null,
      "grid_auto_columns": null,
      "grid_auto_flow": null,
      "grid_auto_rows": null,
      "grid_column": null,
      "grid_gap": null,
      "grid_row": null,
      "grid_template_areas": null,
      "grid_template_columns": null,
      "grid_template_rows": null,
      "height": null,
      "justify_content": null,
      "justify_items": null,
      "left": null,
      "margin": null,
      "max_height": null,
      "max_width": null,
      "min_height": null,
      "min_width": null,
      "object_fit": null,
      "object_position": null,
      "order": null,
      "overflow": null,
      "overflow_x": null,
      "overflow_y": null,
      "padding": null,
      "right": null,
      "top": null,
      "visibility": null,
      "width": null
     }
    },
    "42f0c27598e244dcb843c47f6697139d": {
     "model_module": "@jupyter-widgets/controls",
     "model_module_version": "1.5.0",
     "model_name": "DescriptionStyleModel",
     "state": {
      "_model_module": "@jupyter-widgets/controls",
      "_model_module_version": "1.5.0",
      "_model_name": "DescriptionStyleModel",
      "_view_count": null,
      "_view_module": "@jupyter-widgets/base",
      "_view_module_version": "1.2.0",
      "_view_name": "StyleView",
      "description_width": ""
     }
    },
    "44b8331b722e424287d9cd32080028ef": {
     "model_module": "@jupyter-widgets/base",
     "model_module_version": "1.2.0",
     "model_name": "LayoutModel",
     "state": {
      "_model_module": "@jupyter-widgets/base",
      "_model_module_version": "1.2.0",
      "_model_name": "LayoutModel",
      "_view_count": null,
      "_view_module": "@jupyter-widgets/base",
      "_view_module_version": "1.2.0",
      "_view_name": "LayoutView",
      "align_content": null,
      "align_items": null,
      "align_self": null,
      "border": null,
      "bottom": null,
      "display": null,
      "flex": null,
      "flex_flow": null,
      "grid_area": null,
      "grid_auto_columns": null,
      "grid_auto_flow": null,
      "grid_auto_rows": null,
      "grid_column": null,
      "grid_gap": null,
      "grid_row": null,
      "grid_template_areas": null,
      "grid_template_columns": null,
      "grid_template_rows": null,
      "height": null,
      "justify_content": null,
      "justify_items": null,
      "left": null,
      "margin": null,
      "max_height": null,
      "max_width": null,
      "min_height": null,
      "min_width": null,
      "object_fit": null,
      "object_position": null,
      "order": null,
      "overflow": null,
      "overflow_x": null,
      "overflow_y": null,
      "padding": null,
      "right": null,
      "top": null,
      "visibility": null,
      "width": null
     }
    },
    "44c59405fe514b91bfe44052f1f7bbad": {
     "model_module": "@jupyter-widgets/base",
     "model_module_version": "1.2.0",
     "model_name": "LayoutModel",
     "state": {
      "_model_module": "@jupyter-widgets/base",
      "_model_module_version": "1.2.0",
      "_model_name": "LayoutModel",
      "_view_count": null,
      "_view_module": "@jupyter-widgets/base",
      "_view_module_version": "1.2.0",
      "_view_name": "LayoutView",
      "align_content": null,
      "align_items": null,
      "align_self": null,
      "border": null,
      "bottom": null,
      "display": null,
      "flex": null,
      "flex_flow": null,
      "grid_area": null,
      "grid_auto_columns": null,
      "grid_auto_flow": null,
      "grid_auto_rows": null,
      "grid_column": null,
      "grid_gap": null,
      "grid_row": null,
      "grid_template_areas": null,
      "grid_template_columns": null,
      "grid_template_rows": null,
      "height": null,
      "justify_content": null,
      "justify_items": null,
      "left": null,
      "margin": null,
      "max_height": null,
      "max_width": null,
      "min_height": null,
      "min_width": null,
      "object_fit": null,
      "object_position": null,
      "order": null,
      "overflow": null,
      "overflow_x": null,
      "overflow_y": null,
      "padding": null,
      "right": null,
      "top": null,
      "visibility": null,
      "width": null
     }
    },
    "4676af75d328404a9996b46de9e8b064": {
     "model_module": "@jupyter-widgets/controls",
     "model_module_version": "1.5.0",
     "model_name": "DescriptionStyleModel",
     "state": {
      "_model_module": "@jupyter-widgets/controls",
      "_model_module_version": "1.5.0",
      "_model_name": "DescriptionStyleModel",
      "_view_count": null,
      "_view_module": "@jupyter-widgets/base",
      "_view_module_version": "1.2.0",
      "_view_name": "StyleView",
      "description_width": ""
     }
    },
    "47feca4e3ec5435b83f54cfcd0ea6d1f": {
     "model_module": "@jupyter-widgets/base",
     "model_module_version": "1.2.0",
     "model_name": "LayoutModel",
     "state": {
      "_model_module": "@jupyter-widgets/base",
      "_model_module_version": "1.2.0",
      "_model_name": "LayoutModel",
      "_view_count": null,
      "_view_module": "@jupyter-widgets/base",
      "_view_module_version": "1.2.0",
      "_view_name": "LayoutView",
      "align_content": null,
      "align_items": null,
      "align_self": null,
      "border": null,
      "bottom": null,
      "display": null,
      "flex": null,
      "flex_flow": null,
      "grid_area": null,
      "grid_auto_columns": null,
      "grid_auto_flow": null,
      "grid_auto_rows": null,
      "grid_column": null,
      "grid_gap": null,
      "grid_row": null,
      "grid_template_areas": null,
      "grid_template_columns": null,
      "grid_template_rows": null,
      "height": null,
      "justify_content": null,
      "justify_items": null,
      "left": null,
      "margin": null,
      "max_height": null,
      "max_width": null,
      "min_height": null,
      "min_width": null,
      "object_fit": null,
      "object_position": null,
      "order": null,
      "overflow": null,
      "overflow_x": null,
      "overflow_y": null,
      "padding": null,
      "right": null,
      "top": null,
      "visibility": null,
      "width": null
     }
    },
    "48ad764f87cd43d790e672dcb682bad8": {
     "model_module": "@jupyter-widgets/base",
     "model_module_version": "1.2.0",
     "model_name": "LayoutModel",
     "state": {
      "_model_module": "@jupyter-widgets/base",
      "_model_module_version": "1.2.0",
      "_model_name": "LayoutModel",
      "_view_count": null,
      "_view_module": "@jupyter-widgets/base",
      "_view_module_version": "1.2.0",
      "_view_name": "LayoutView",
      "align_content": null,
      "align_items": null,
      "align_self": null,
      "border": null,
      "bottom": null,
      "display": null,
      "flex": null,
      "flex_flow": null,
      "grid_area": null,
      "grid_auto_columns": null,
      "grid_auto_flow": null,
      "grid_auto_rows": null,
      "grid_column": null,
      "grid_gap": null,
      "grid_row": null,
      "grid_template_areas": null,
      "grid_template_columns": null,
      "grid_template_rows": null,
      "height": null,
      "justify_content": null,
      "justify_items": null,
      "left": null,
      "margin": null,
      "max_height": null,
      "max_width": null,
      "min_height": null,
      "min_width": null,
      "object_fit": null,
      "object_position": null,
      "order": null,
      "overflow": null,
      "overflow_x": null,
      "overflow_y": null,
      "padding": null,
      "right": null,
      "top": null,
      "visibility": null,
      "width": null
     }
    },
    "49ebbe256be7434995e2d1da105d67ee": {
     "model_module": "@jupyter-widgets/base",
     "model_module_version": "1.2.0",
     "model_name": "LayoutModel",
     "state": {
      "_model_module": "@jupyter-widgets/base",
      "_model_module_version": "1.2.0",
      "_model_name": "LayoutModel",
      "_view_count": null,
      "_view_module": "@jupyter-widgets/base",
      "_view_module_version": "1.2.0",
      "_view_name": "LayoutView",
      "align_content": null,
      "align_items": null,
      "align_self": null,
      "border": null,
      "bottom": null,
      "display": null,
      "flex": null,
      "flex_flow": null,
      "grid_area": null,
      "grid_auto_columns": null,
      "grid_auto_flow": null,
      "grid_auto_rows": null,
      "grid_column": null,
      "grid_gap": null,
      "grid_row": null,
      "grid_template_areas": null,
      "grid_template_columns": null,
      "grid_template_rows": null,
      "height": null,
      "justify_content": null,
      "justify_items": null,
      "left": null,
      "margin": null,
      "max_height": null,
      "max_width": null,
      "min_height": null,
      "min_width": null,
      "object_fit": null,
      "object_position": null,
      "order": null,
      "overflow": null,
      "overflow_x": null,
      "overflow_y": null,
      "padding": null,
      "right": null,
      "top": null,
      "visibility": null,
      "width": null
     }
    },
    "4ce6e9d1163c4fb1a6afaf2ba4a40515": {
     "model_module": "@jupyter-widgets/controls",
     "model_module_version": "1.5.0",
     "model_name": "DescriptionStyleModel",
     "state": {
      "_model_module": "@jupyter-widgets/controls",
      "_model_module_version": "1.5.0",
      "_model_name": "DescriptionStyleModel",
      "_view_count": null,
      "_view_module": "@jupyter-widgets/base",
      "_view_module_version": "1.2.0",
      "_view_name": "StyleView",
      "description_width": ""
     }
    },
    "4d0f855851214881bf962de117f181cc": {
     "model_module": "@jupyter-widgets/base",
     "model_module_version": "1.2.0",
     "model_name": "LayoutModel",
     "state": {
      "_model_module": "@jupyter-widgets/base",
      "_model_module_version": "1.2.0",
      "_model_name": "LayoutModel",
      "_view_count": null,
      "_view_module": "@jupyter-widgets/base",
      "_view_module_version": "1.2.0",
      "_view_name": "LayoutView",
      "align_content": null,
      "align_items": null,
      "align_self": null,
      "border": null,
      "bottom": null,
      "display": null,
      "flex": null,
      "flex_flow": null,
      "grid_area": null,
      "grid_auto_columns": null,
      "grid_auto_flow": null,
      "grid_auto_rows": null,
      "grid_column": null,
      "grid_gap": null,
      "grid_row": null,
      "grid_template_areas": null,
      "grid_template_columns": null,
      "grid_template_rows": null,
      "height": null,
      "justify_content": null,
      "justify_items": null,
      "left": null,
      "margin": null,
      "max_height": null,
      "max_width": null,
      "min_height": null,
      "min_width": null,
      "object_fit": null,
      "object_position": null,
      "order": null,
      "overflow": null,
      "overflow_x": null,
      "overflow_y": null,
      "padding": null,
      "right": null,
      "top": null,
      "visibility": null,
      "width": null
     }
    },
    "4f43efba5ff54886a20055f0d9d2f894": {
     "model_module": "@jupyter-widgets/base",
     "model_module_version": "1.2.0",
     "model_name": "LayoutModel",
     "state": {
      "_model_module": "@jupyter-widgets/base",
      "_model_module_version": "1.2.0",
      "_model_name": "LayoutModel",
      "_view_count": null,
      "_view_module": "@jupyter-widgets/base",
      "_view_module_version": "1.2.0",
      "_view_name": "LayoutView",
      "align_content": null,
      "align_items": null,
      "align_self": null,
      "border": null,
      "bottom": null,
      "display": null,
      "flex": null,
      "flex_flow": null,
      "grid_area": null,
      "grid_auto_columns": null,
      "grid_auto_flow": null,
      "grid_auto_rows": null,
      "grid_column": null,
      "grid_gap": null,
      "grid_row": null,
      "grid_template_areas": null,
      "grid_template_columns": null,
      "grid_template_rows": null,
      "height": null,
      "justify_content": null,
      "justify_items": null,
      "left": null,
      "margin": null,
      "max_height": null,
      "max_width": null,
      "min_height": null,
      "min_width": null,
      "object_fit": null,
      "object_position": null,
      "order": null,
      "overflow": null,
      "overflow_x": null,
      "overflow_y": null,
      "padding": null,
      "right": null,
      "top": null,
      "visibility": null,
      "width": null
     }
    },
    "4fb9655f9af54d67b127112ee0d94923": {
     "model_module": "@jupyter-widgets/controls",
     "model_module_version": "1.5.0",
     "model_name": "DescriptionStyleModel",
     "state": {
      "_model_module": "@jupyter-widgets/controls",
      "_model_module_version": "1.5.0",
      "_model_name": "DescriptionStyleModel",
      "_view_count": null,
      "_view_module": "@jupyter-widgets/base",
      "_view_module_version": "1.2.0",
      "_view_name": "StyleView",
      "description_width": ""
     }
    },
    "51804b455f464dff8f3139eb2f30b893": {
     "model_module": "@jupyter-widgets/base",
     "model_module_version": "1.2.0",
     "model_name": "LayoutModel",
     "state": {
      "_model_module": "@jupyter-widgets/base",
      "_model_module_version": "1.2.0",
      "_model_name": "LayoutModel",
      "_view_count": null,
      "_view_module": "@jupyter-widgets/base",
      "_view_module_version": "1.2.0",
      "_view_name": "LayoutView",
      "align_content": null,
      "align_items": null,
      "align_self": null,
      "border": null,
      "bottom": null,
      "display": null,
      "flex": null,
      "flex_flow": null,
      "grid_area": null,
      "grid_auto_columns": null,
      "grid_auto_flow": null,
      "grid_auto_rows": null,
      "grid_column": null,
      "grid_gap": null,
      "grid_row": null,
      "grid_template_areas": null,
      "grid_template_columns": null,
      "grid_template_rows": null,
      "height": null,
      "justify_content": null,
      "justify_items": null,
      "left": null,
      "margin": null,
      "max_height": null,
      "max_width": null,
      "min_height": null,
      "min_width": null,
      "object_fit": null,
      "object_position": null,
      "order": null,
      "overflow": null,
      "overflow_x": null,
      "overflow_y": null,
      "padding": null,
      "right": null,
      "top": null,
      "visibility": null,
      "width": null
     }
    },
    "51bbf4f05aa346028f820bdc0b186285": {
     "model_module": "@jupyter-widgets/controls",
     "model_module_version": "1.5.0",
     "model_name": "FloatProgressModel",
     "state": {
      "_dom_classes": [],
      "_model_module": "@jupyter-widgets/controls",
      "_model_module_version": "1.5.0",
      "_model_name": "FloatProgressModel",
      "_view_count": null,
      "_view_module": "@jupyter-widgets/controls",
      "_view_module_version": "1.5.0",
      "_view_name": "ProgressView",
      "bar_style": "success",
      "description": "",
      "description_tooltip": null,
      "layout": "IPY_MODEL_9e72b21962ef4259b4bc13a91db9ff98",
      "max": 53,
      "min": 0,
      "orientation": "horizontal",
      "style": "IPY_MODEL_15f364f692cd4686bf285dcbcc199335",
      "value": 53
     }
    },
    "54efe2f780f14d40bc3b9940c22d09c6": {
     "model_module": "@jupyter-widgets/base",
     "model_module_version": "1.2.0",
     "model_name": "LayoutModel",
     "state": {
      "_model_module": "@jupyter-widgets/base",
      "_model_module_version": "1.2.0",
      "_model_name": "LayoutModel",
      "_view_count": null,
      "_view_module": "@jupyter-widgets/base",
      "_view_module_version": "1.2.0",
      "_view_name": "LayoutView",
      "align_content": null,
      "align_items": null,
      "align_self": null,
      "border": null,
      "bottom": null,
      "display": null,
      "flex": null,
      "flex_flow": null,
      "grid_area": null,
      "grid_auto_columns": null,
      "grid_auto_flow": null,
      "grid_auto_rows": null,
      "grid_column": null,
      "grid_gap": null,
      "grid_row": null,
      "grid_template_areas": null,
      "grid_template_columns": null,
      "grid_template_rows": null,
      "height": null,
      "justify_content": null,
      "justify_items": null,
      "left": null,
      "margin": null,
      "max_height": null,
      "max_width": null,
      "min_height": null,
      "min_width": null,
      "object_fit": null,
      "object_position": null,
      "order": null,
      "overflow": null,
      "overflow_x": null,
      "overflow_y": null,
      "padding": null,
      "right": null,
      "top": null,
      "visibility": null,
      "width": null
     }
    },
    "5895281df33448e2a962f3a16bbb109f": {
     "model_module": "@jupyter-widgets/controls",
     "model_module_version": "1.5.0",
     "model_name": "HTMLModel",
     "state": {
      "_dom_classes": [],
      "_model_module": "@jupyter-widgets/controls",
      "_model_module_version": "1.5.0",
      "_model_name": "HTMLModel",
      "_view_count": null,
      "_view_module": "@jupyter-widgets/controls",
      "_view_module_version": "1.5.0",
      "_view_name": "HTMLView",
      "description": "",
      "description_tooltip": null,
      "layout": "IPY_MODEL_a44f5dce5c224ccea8d43aa90e96239b",
      "placeholder": "​",
      "style": "IPY_MODEL_a58ca97fa9c14605ab12aff81d9b34a7",
      "value": "config.json: 100%"
     }
    },
    "595e048c1d914e829514fa7234d23f65": {
     "model_module": "@jupyter-widgets/controls",
     "model_module_version": "1.5.0",
     "model_name": "ProgressStyleModel",
     "state": {
      "_model_module": "@jupyter-widgets/controls",
      "_model_module_version": "1.5.0",
      "_model_name": "ProgressStyleModel",
      "_view_count": null,
      "_view_module": "@jupyter-widgets/base",
      "_view_module_version": "1.2.0",
      "_view_name": "StyleView",
      "bar_color": null,
      "description_width": ""
     }
    },
    "59f7be0593634c21a14c374e1afc16ac": {
     "model_module": "@jupyter-widgets/controls",
     "model_module_version": "1.5.0",
     "model_name": "DescriptionStyleModel",
     "state": {
      "_model_module": "@jupyter-widgets/controls",
      "_model_module_version": "1.5.0",
      "_model_name": "DescriptionStyleModel",
      "_view_count": null,
      "_view_module": "@jupyter-widgets/base",
      "_view_module_version": "1.2.0",
      "_view_name": "StyleView",
      "description_width": ""
     }
    },
    "5a1e3e4707244067b18a14e244ad7587": {
     "model_module": "@jupyter-widgets/controls",
     "model_module_version": "1.5.0",
     "model_name": "HTMLModel",
     "state": {
      "_dom_classes": [],
      "_model_module": "@jupyter-widgets/controls",
      "_model_module_version": "1.5.0",
      "_model_name": "HTMLModel",
      "_view_count": null,
      "_view_module": "@jupyter-widgets/controls",
      "_view_module_version": "1.5.0",
      "_view_name": "HTMLView",
      "description": "",
      "description_tooltip": null,
      "layout": "IPY_MODEL_cf38c82b7e154ea492f6b15175cf7905",
      "placeholder": "​",
      "style": "IPY_MODEL_4fb9655f9af54d67b127112ee0d94923",
      "value": " 349/349 [00:00&lt;00:00, 16.7kB/s]"
     }
    },
    "5d4e53dc38eb4784bbaad73e77f830d2": {
     "model_module": "@jupyter-widgets/controls",
     "model_module_version": "1.5.0",
     "model_name": "DescriptionStyleModel",
     "state": {
      "_model_module": "@jupyter-widgets/controls",
      "_model_module_version": "1.5.0",
      "_model_name": "DescriptionStyleModel",
      "_view_count": null,
      "_view_module": "@jupyter-widgets/base",
      "_view_module_version": "1.2.0",
      "_view_name": "StyleView",
      "description_width": ""
     }
    },
    "5ef697fd373d415cbe70f5b0f15895ba": {
     "model_module": "@jupyter-widgets/base",
     "model_module_version": "1.2.0",
     "model_name": "LayoutModel",
     "state": {
      "_model_module": "@jupyter-widgets/base",
      "_model_module_version": "1.2.0",
      "_model_name": "LayoutModel",
      "_view_count": null,
      "_view_module": "@jupyter-widgets/base",
      "_view_module_version": "1.2.0",
      "_view_name": "LayoutView",
      "align_content": null,
      "align_items": null,
      "align_self": null,
      "border": null,
      "bottom": null,
      "display": null,
      "flex": null,
      "flex_flow": null,
      "grid_area": null,
      "grid_auto_columns": null,
      "grid_auto_flow": null,
      "grid_auto_rows": null,
      "grid_column": null,
      "grid_gap": null,
      "grid_row": null,
      "grid_template_areas": null,
      "grid_template_columns": null,
      "grid_template_rows": null,
      "height": null,
      "justify_content": null,
      "justify_items": null,
      "left": null,
      "margin": null,
      "max_height": null,
      "max_width": null,
      "min_height": null,
      "min_width": null,
      "object_fit": null,
      "object_position": null,
      "order": null,
      "overflow": null,
      "overflow_x": null,
      "overflow_y": null,
      "padding": null,
      "right": null,
      "top": null,
      "visibility": null,
      "width": null
     }
    },
    "607efe7c2c7c49258937615cd6c35fd1": {
     "model_module": "@jupyter-widgets/base",
     "model_module_version": "1.2.0",
     "model_name": "LayoutModel",
     "state": {
      "_model_module": "@jupyter-widgets/base",
      "_model_module_version": "1.2.0",
      "_model_name": "LayoutModel",
      "_view_count": null,
      "_view_module": "@jupyter-widgets/base",
      "_view_module_version": "1.2.0",
      "_view_name": "LayoutView",
      "align_content": null,
      "align_items": null,
      "align_self": null,
      "border": null,
      "bottom": null,
      "display": null,
      "flex": null,
      "flex_flow": null,
      "grid_area": null,
      "grid_auto_columns": null,
      "grid_auto_flow": null,
      "grid_auto_rows": null,
      "grid_column": null,
      "grid_gap": null,
      "grid_row": null,
      "grid_template_areas": null,
      "grid_template_columns": null,
      "grid_template_rows": null,
      "height": null,
      "justify_content": null,
      "justify_items": null,
      "left": null,
      "margin": null,
      "max_height": null,
      "max_width": null,
      "min_height": null,
      "min_width": null,
      "object_fit": null,
      "object_position": null,
      "order": null,
      "overflow": null,
      "overflow_x": null,
      "overflow_y": null,
      "padding": null,
      "right": null,
      "top": null,
      "visibility": null,
      "width": null
     }
    },
    "63591fd7c7f348208a6d956a9bd5ebb1": {
     "model_module": "@jupyter-widgets/base",
     "model_module_version": "1.2.0",
     "model_name": "LayoutModel",
     "state": {
      "_model_module": "@jupyter-widgets/base",
      "_model_module_version": "1.2.0",
      "_model_name": "LayoutModel",
      "_view_count": null,
      "_view_module": "@jupyter-widgets/base",
      "_view_module_version": "1.2.0",
      "_view_name": "LayoutView",
      "align_content": null,
      "align_items": null,
      "align_self": null,
      "border": null,
      "bottom": null,
      "display": null,
      "flex": null,
      "flex_flow": null,
      "grid_area": null,
      "grid_auto_columns": null,
      "grid_auto_flow": null,
      "grid_auto_rows": null,
      "grid_column": null,
      "grid_gap": null,
      "grid_row": null,
      "grid_template_areas": null,
      "grid_template_columns": null,
      "grid_template_rows": null,
      "height": null,
      "justify_content": null,
      "justify_items": null,
      "left": null,
      "margin": null,
      "max_height": null,
      "max_width": null,
      "min_height": null,
      "min_width": null,
      "object_fit": null,
      "object_position": null,
      "order": null,
      "overflow": null,
      "overflow_x": null,
      "overflow_y": null,
      "padding": null,
      "right": null,
      "top": null,
      "visibility": null,
      "width": null
     }
    },
    "63de4fa845d949738275dbbc6e32d9c0": {
     "model_module": "@jupyter-widgets/controls",
     "model_module_version": "1.5.0",
     "model_name": "HTMLModel",
     "state": {
      "_dom_classes": [],
      "_model_module": "@jupyter-widgets/controls",
      "_model_module_version": "1.5.0",
      "_model_name": "HTMLModel",
      "_view_count": null,
      "_view_module": "@jupyter-widgets/controls",
      "_view_module_version": "1.5.0",
      "_view_name": "HTMLView",
      "description": "",
      "description_tooltip": null,
      "layout": "IPY_MODEL_05b4fd2d71d9421fa1cc93b950532426",
      "placeholder": "​",
      "style": "IPY_MODEL_806e654ce47644629dd002de113d7956",
      "value": " 612/612 [00:00&lt;00:00, 27.5kB/s]"
     }
    },
    "687d5b5e23344ad48a698e37f0d33037": {
     "model_module": "@jupyter-widgets/controls",
     "model_module_version": "1.5.0",
     "model_name": "HTMLModel",
     "state": {
      "_dom_classes": [],
      "_model_module": "@jupyter-widgets/controls",
      "_model_module_version": "1.5.0",
      "_model_name": "HTMLModel",
      "_view_count": null,
      "_view_module": "@jupyter-widgets/controls",
      "_view_module_version": "1.5.0",
      "_view_name": "HTMLView",
      "description": "",
      "description_tooltip": null,
      "layout": "IPY_MODEL_ee62e4869cf540cf8c1e1acf245e09f9",
      "placeholder": "​",
      "style": "IPY_MODEL_2d7f1e85461b425a911dd68df22d865f",
      "value": "tokenizer.json: 100%"
     }
    },
    "6d6dbf46c11d457a92b36c1d9cef276f": {
     "model_module": "@jupyter-widgets/controls",
     "model_module_version": "1.5.0",
     "model_name": "DescriptionStyleModel",
     "state": {
      "_model_module": "@jupyter-widgets/controls",
      "_model_module_version": "1.5.0",
      "_model_name": "DescriptionStyleModel",
      "_view_count": null,
      "_view_module": "@jupyter-widgets/base",
      "_view_module_version": "1.2.0",
      "_view_name": "StyleView",
      "description_width": ""
     }
    },
    "6e4858c57d0542718f2303ecfbea8f64": {
     "model_module": "@jupyter-widgets/controls",
     "model_module_version": "1.5.0",
     "model_name": "HTMLModel",
     "state": {
      "_dom_classes": [],
      "_model_module": "@jupyter-widgets/controls",
      "_model_module_version": "1.5.0",
      "_model_name": "HTMLModel",
      "_view_count": null,
      "_view_module": "@jupyter-widgets/controls",
      "_view_module_version": "1.5.0",
      "_view_name": "HTMLView",
      "description": "",
      "description_tooltip": null,
      "layout": "IPY_MODEL_85e998e0f6bc4d558ec54c51fc3971d1",
      "placeholder": "​",
      "style": "IPY_MODEL_4ce6e9d1163c4fb1a6afaf2ba4a40515",
      "value": " 90.9M/90.9M [00:00&lt;00:00, 146MB/s]"
     }
    },
    "7581b87b896847d1a1c075dd229406d9": {
     "model_module": "@jupyter-widgets/controls",
     "model_module_version": "1.5.0",
     "model_name": "ProgressStyleModel",
     "state": {
      "_model_module": "@jupyter-widgets/controls",
      "_model_module_version": "1.5.0",
      "_model_name": "ProgressStyleModel",
      "_view_count": null,
      "_view_module": "@jupyter-widgets/base",
      "_view_module_version": "1.2.0",
      "_view_name": "StyleView",
      "bar_color": null,
      "description_width": ""
     }
    },
    "7d1f0e828f32430b82ceea14f74072db": {
     "model_module": "@jupyter-widgets/base",
     "model_module_version": "1.2.0",
     "model_name": "LayoutModel",
     "state": {
      "_model_module": "@jupyter-widgets/base",
      "_model_module_version": "1.2.0",
      "_model_name": "LayoutModel",
      "_view_count": null,
      "_view_module": "@jupyter-widgets/base",
      "_view_module_version": "1.2.0",
      "_view_name": "LayoutView",
      "align_content": null,
      "align_items": null,
      "align_self": null,
      "border": null,
      "bottom": null,
      "display": null,
      "flex": null,
      "flex_flow": null,
      "grid_area": null,
      "grid_auto_columns": null,
      "grid_auto_flow": null,
      "grid_auto_rows": null,
      "grid_column": null,
      "grid_gap": null,
      "grid_row": null,
      "grid_template_areas": null,
      "grid_template_columns": null,
      "grid_template_rows": null,
      "height": null,
      "justify_content": null,
      "justify_items": null,
      "left": null,
      "margin": null,
      "max_height": null,
      "max_width": null,
      "min_height": null,
      "min_width": null,
      "object_fit": null,
      "object_position": null,
      "order": null,
      "overflow": null,
      "overflow_x": null,
      "overflow_y": null,
      "padding": null,
      "right": null,
      "top": null,
      "visibility": null,
      "width": null
     }
    },
    "7dc3c41b5a7540d68c0c15fc10af2418": {
     "model_module": "@jupyter-widgets/base",
     "model_module_version": "1.2.0",
     "model_name": "LayoutModel",
     "state": {
      "_model_module": "@jupyter-widgets/base",
      "_model_module_version": "1.2.0",
      "_model_name": "LayoutModel",
      "_view_count": null,
      "_view_module": "@jupyter-widgets/base",
      "_view_module_version": "1.2.0",
      "_view_name": "LayoutView",
      "align_content": null,
      "align_items": null,
      "align_self": null,
      "border": null,
      "bottom": null,
      "display": null,
      "flex": null,
      "flex_flow": null,
      "grid_area": null,
      "grid_auto_columns": null,
      "grid_auto_flow": null,
      "grid_auto_rows": null,
      "grid_column": null,
      "grid_gap": null,
      "grid_row": null,
      "grid_template_areas": null,
      "grid_template_columns": null,
      "grid_template_rows": null,
      "height": null,
      "justify_content": null,
      "justify_items": null,
      "left": null,
      "margin": null,
      "max_height": null,
      "max_width": null,
      "min_height": null,
      "min_width": null,
      "object_fit": null,
      "object_position": null,
      "order": null,
      "overflow": null,
      "overflow_x": null,
      "overflow_y": null,
      "padding": null,
      "right": null,
      "top": null,
      "visibility": null,
      "width": null
     }
    },
    "7e25343c0c554ba9bf9c4b74aea2585f": {
     "model_module": "@jupyter-widgets/controls",
     "model_module_version": "1.5.0",
     "model_name": "HTMLModel",
     "state": {
      "_dom_classes": [],
      "_model_module": "@jupyter-widgets/controls",
      "_model_module_version": "1.5.0",
      "_model_name": "HTMLModel",
      "_view_count": null,
      "_view_module": "@jupyter-widgets/controls",
      "_view_module_version": "1.5.0",
      "_view_name": "HTMLView",
      "description": "",
      "description_tooltip": null,
      "layout": "IPY_MODEL_e713e33811d44efb861347701eea3c61",
      "placeholder": "​",
      "style": "IPY_MODEL_9edf01c1f5454bce9da79a418a383829",
      "value": "tokenizer_config.json: 100%"
     }
    },
    "806e654ce47644629dd002de113d7956": {
     "model_module": "@jupyter-widgets/controls",
     "model_module_version": "1.5.0",
     "model_name": "DescriptionStyleModel",
     "state": {
      "_model_module": "@jupyter-widgets/controls",
      "_model_module_version": "1.5.0",
      "_model_name": "DescriptionStyleModel",
      "_view_count": null,
      "_view_module": "@jupyter-widgets/base",
      "_view_module_version": "1.2.0",
      "_view_name": "StyleView",
      "description_width": ""
     }
    },
    "8315f1b2ba1b47d4b1402f08f56b428f": {
     "model_module": "@jupyter-widgets/base",
     "model_module_version": "1.2.0",
     "model_name": "LayoutModel",
     "state": {
      "_model_module": "@jupyter-widgets/base",
      "_model_module_version": "1.2.0",
      "_model_name": "LayoutModel",
      "_view_count": null,
      "_view_module": "@jupyter-widgets/base",
      "_view_module_version": "1.2.0",
      "_view_name": "LayoutView",
      "align_content": null,
      "align_items": null,
      "align_self": null,
      "border": null,
      "bottom": null,
      "display": null,
      "flex": null,
      "flex_flow": null,
      "grid_area": null,
      "grid_auto_columns": null,
      "grid_auto_flow": null,
      "grid_auto_rows": null,
      "grid_column": null,
      "grid_gap": null,
      "grid_row": null,
      "grid_template_areas": null,
      "grid_template_columns": null,
      "grid_template_rows": null,
      "height": null,
      "justify_content": null,
      "justify_items": null,
      "left": null,
      "margin": null,
      "max_height": null,
      "max_width": null,
      "min_height": null,
      "min_width": null,
      "object_fit": null,
      "object_position": null,
      "order": null,
      "overflow": null,
      "overflow_x": null,
      "overflow_y": null,
      "padding": null,
      "right": null,
      "top": null,
      "visibility": null,
      "width": null
     }
    },
    "8339bfcb5c104892aa19782d14c9de25": {
     "model_module": "@jupyter-widgets/controls",
     "model_module_version": "1.5.0",
     "model_name": "DescriptionStyleModel",
     "state": {
      "_model_module": "@jupyter-widgets/controls",
      "_model_module_version": "1.5.0",
      "_model_name": "DescriptionStyleModel",
      "_view_count": null,
      "_view_module": "@jupyter-widgets/base",
      "_view_module_version": "1.2.0",
      "_view_name": "StyleView",
      "description_width": ""
     }
    },
    "85e998e0f6bc4d558ec54c51fc3971d1": {
     "model_module": "@jupyter-widgets/base",
     "model_module_version": "1.2.0",
     "model_name": "LayoutModel",
     "state": {
      "_model_module": "@jupyter-widgets/base",
      "_model_module_version": "1.2.0",
      "_model_name": "LayoutModel",
      "_view_count": null,
      "_view_module": "@jupyter-widgets/base",
      "_view_module_version": "1.2.0",
      "_view_name": "LayoutView",
      "align_content": null,
      "align_items": null,
      "align_self": null,
      "border": null,
      "bottom": null,
      "display": null,
      "flex": null,
      "flex_flow": null,
      "grid_area": null,
      "grid_auto_columns": null,
      "grid_auto_flow": null,
      "grid_auto_rows": null,
      "grid_column": null,
      "grid_gap": null,
      "grid_row": null,
      "grid_template_areas": null,
      "grid_template_columns": null,
      "grid_template_rows": null,
      "height": null,
      "justify_content": null,
      "justify_items": null,
      "left": null,
      "margin": null,
      "max_height": null,
      "max_width": null,
      "min_height": null,
      "min_width": null,
      "object_fit": null,
      "object_position": null,
      "order": null,
      "overflow": null,
      "overflow_x": null,
      "overflow_y": null,
      "padding": null,
      "right": null,
      "top": null,
      "visibility": null,
      "width": null
     }
    },
    "8d75b2cbd1e14738ae7693045eec2af6": {
     "model_module": "@jupyter-widgets/base",
     "model_module_version": "1.2.0",
     "model_name": "LayoutModel",
     "state": {
      "_model_module": "@jupyter-widgets/base",
      "_model_module_version": "1.2.0",
      "_model_name": "LayoutModel",
      "_view_count": null,
      "_view_module": "@jupyter-widgets/base",
      "_view_module_version": "1.2.0",
      "_view_name": "LayoutView",
      "align_content": null,
      "align_items": null,
      "align_self": null,
      "border": null,
      "bottom": null,
      "display": null,
      "flex": null,
      "flex_flow": null,
      "grid_area": null,
      "grid_auto_columns": null,
      "grid_auto_flow": null,
      "grid_auto_rows": null,
      "grid_column": null,
      "grid_gap": null,
      "grid_row": null,
      "grid_template_areas": null,
      "grid_template_columns": null,
      "grid_template_rows": null,
      "height": null,
      "justify_content": null,
      "justify_items": null,
      "left": null,
      "margin": null,
      "max_height": null,
      "max_width": null,
      "min_height": null,
      "min_width": null,
      "object_fit": null,
      "object_position": null,
      "order": null,
      "overflow": null,
      "overflow_x": null,
      "overflow_y": null,
      "padding": null,
      "right": null,
      "top": null,
      "visibility": null,
      "width": null
     }
    },
    "8fe7e3d9b0b54d459b94b7452185eed7": {
     "model_module": "@jupyter-widgets/controls",
     "model_module_version": "1.5.0",
     "model_name": "ProgressStyleModel",
     "state": {
      "_model_module": "@jupyter-widgets/controls",
      "_model_module_version": "1.5.0",
      "_model_name": "ProgressStyleModel",
      "_view_count": null,
      "_view_module": "@jupyter-widgets/base",
      "_view_module_version": "1.2.0",
      "_view_name": "StyleView",
      "bar_color": null,
      "description_width": ""
     }
    },
    "94a3ad5787b140d092fe105ae39b91a1": {
     "model_module": "@jupyter-widgets/controls",
     "model_module_version": "1.5.0",
     "model_name": "ProgressStyleModel",
     "state": {
      "_model_module": "@jupyter-widgets/controls",
      "_model_module_version": "1.5.0",
      "_model_name": "ProgressStyleModel",
      "_view_count": null,
      "_view_module": "@jupyter-widgets/base",
      "_view_module_version": "1.2.0",
      "_view_name": "StyleView",
      "bar_color": null,
      "description_width": ""
     }
    },
    "953cd89d8f0440a584b38616f5918035": {
     "model_module": "@jupyter-widgets/controls",
     "model_module_version": "1.5.0",
     "model_name": "DescriptionStyleModel",
     "state": {
      "_model_module": "@jupyter-widgets/controls",
      "_model_module_version": "1.5.0",
      "_model_name": "DescriptionStyleModel",
      "_view_count": null,
      "_view_module": "@jupyter-widgets/base",
      "_view_module_version": "1.2.0",
      "_view_name": "StyleView",
      "description_width": ""
     }
    },
    "9572059e8eaa4b8ebf39af50300e4937": {
     "model_module": "@jupyter-widgets/controls",
     "model_module_version": "1.5.0",
     "model_name": "ProgressStyleModel",
     "state": {
      "_model_module": "@jupyter-widgets/controls",
      "_model_module_version": "1.5.0",
      "_model_name": "ProgressStyleModel",
      "_view_count": null,
      "_view_module": "@jupyter-widgets/base",
      "_view_module_version": "1.2.0",
      "_view_name": "StyleView",
      "bar_color": null,
      "description_width": ""
     }
    },
    "99de873deb6748fa8bee6adc2bd8dafc": {
     "model_module": "@jupyter-widgets/controls",
     "model_module_version": "1.5.0",
     "model_name": "HTMLModel",
     "state": {
      "_dom_classes": [],
      "_model_module": "@jupyter-widgets/controls",
      "_model_module_version": "1.5.0",
      "_model_name": "HTMLModel",
      "_view_count": null,
      "_view_module": "@jupyter-widgets/controls",
      "_view_module_version": "1.5.0",
      "_view_name": "HTMLView",
      "description": "",
      "description_tooltip": null,
      "layout": "IPY_MODEL_e4310be8139b45cf846013cce84e2957",
      "placeholder": "​",
      "style": "IPY_MODEL_ee89aa5a2d2148d0830232a536509d9e",
      "value": " 116/116 [00:00&lt;00:00, 5.40kB/s]"
     }
    },
    "99f34192112c46f1b80c3318d84e7e5c": {
     "model_module": "@jupyter-widgets/base",
     "model_module_version": "1.2.0",
     "model_name": "LayoutModel",
     "state": {
      "_model_module": "@jupyter-widgets/base",
      "_model_module_version": "1.2.0",
      "_model_name": "LayoutModel",
      "_view_count": null,
      "_view_module": "@jupyter-widgets/base",
      "_view_module_version": "1.2.0",
      "_view_name": "LayoutView",
      "align_content": null,
      "align_items": null,
      "align_self": null,
      "border": null,
      "bottom": null,
      "display": null,
      "flex": null,
      "flex_flow": null,
      "grid_area": null,
      "grid_auto_columns": null,
      "grid_auto_flow": null,
      "grid_auto_rows": null,
      "grid_column": null,
      "grid_gap": null,
      "grid_row": null,
      "grid_template_areas": null,
      "grid_template_columns": null,
      "grid_template_rows": null,
      "height": null,
      "justify_content": null,
      "justify_items": null,
      "left": null,
      "margin": null,
      "max_height": null,
      "max_width": null,
      "min_height": null,
      "min_width": null,
      "object_fit": null,
      "object_position": null,
      "order": null,
      "overflow": null,
      "overflow_x": null,
      "overflow_y": null,
      "padding": null,
      "right": null,
      "top": null,
      "visibility": null,
      "width": null
     }
    },
    "9b9738b76fa14c528b7372214528b01f": {
     "model_module": "@jupyter-widgets/controls",
     "model_module_version": "1.5.0",
     "model_name": "HBoxModel",
     "state": {
      "_dom_classes": [],
      "_model_module": "@jupyter-widgets/controls",
      "_model_module_version": "1.5.0",
      "_model_name": "HBoxModel",
      "_view_count": null,
      "_view_module": "@jupyter-widgets/controls",
      "_view_module_version": "1.5.0",
      "_view_name": "HBoxView",
      "box_style": "",
      "children": [
       "IPY_MODEL_33e3ee3629d148ebae0e42a09fd4e6dc",
       "IPY_MODEL_51bbf4f05aa346028f820bdc0b186285",
       "IPY_MODEL_e9d2c8f0b2cc4dc78c20559a459182db"
      ],
      "layout": "IPY_MODEL_f839b38918b64a33964260726cdc36f8"
     }
    },
    "9bcb10927b2442bdb5d49c88d2c8aea0": {
     "model_module": "@jupyter-widgets/base",
     "model_module_version": "1.2.0",
     "model_name": "LayoutModel",
     "state": {
      "_model_module": "@jupyter-widgets/base",
      "_model_module_version": "1.2.0",
      "_model_name": "LayoutModel",
      "_view_count": null,
      "_view_module": "@jupyter-widgets/base",
      "_view_module_version": "1.2.0",
      "_view_name": "LayoutView",
      "align_content": null,
      "align_items": null,
      "align_self": null,
      "border": null,
      "bottom": null,
      "display": null,
      "flex": null,
      "flex_flow": null,
      "grid_area": null,
      "grid_auto_columns": null,
      "grid_auto_flow": null,
      "grid_auto_rows": null,
      "grid_column": null,
      "grid_gap": null,
      "grid_row": null,
      "grid_template_areas": null,
      "grid_template_columns": null,
      "grid_template_rows": null,
      "height": null,
      "justify_content": null,
      "justify_items": null,
      "left": null,
      "margin": null,
      "max_height": null,
      "max_width": null,
      "min_height": null,
      "min_width": null,
      "object_fit": null,
      "object_position": null,
      "order": null,
      "overflow": null,
      "overflow_x": null,
      "overflow_y": null,
      "padding": null,
      "right": null,
      "top": null,
      "visibility": null,
      "width": null
     }
    },
    "9d8312a6c5a746d0ab691379e9dba173": {
     "model_module": "@jupyter-widgets/controls",
     "model_module_version": "1.5.0",
     "model_name": "DescriptionStyleModel",
     "state": {
      "_model_module": "@jupyter-widgets/controls",
      "_model_module_version": "1.5.0",
      "_model_name": "DescriptionStyleModel",
      "_view_count": null,
      "_view_module": "@jupyter-widgets/base",
      "_view_module_version": "1.2.0",
      "_view_name": "StyleView",
      "description_width": ""
     }
    },
    "9e72b21962ef4259b4bc13a91db9ff98": {
     "model_module": "@jupyter-widgets/base",
     "model_module_version": "1.2.0",
     "model_name": "LayoutModel",
     "state": {
      "_model_module": "@jupyter-widgets/base",
      "_model_module_version": "1.2.0",
      "_model_name": "LayoutModel",
      "_view_count": null,
      "_view_module": "@jupyter-widgets/base",
      "_view_module_version": "1.2.0",
      "_view_name": "LayoutView",
      "align_content": null,
      "align_items": null,
      "align_self": null,
      "border": null,
      "bottom": null,
      "display": null,
      "flex": null,
      "flex_flow": null,
      "grid_area": null,
      "grid_auto_columns": null,
      "grid_auto_flow": null,
      "grid_auto_rows": null,
      "grid_column": null,
      "grid_gap": null,
      "grid_row": null,
      "grid_template_areas": null,
      "grid_template_columns": null,
      "grid_template_rows": null,
      "height": null,
      "justify_content": null,
      "justify_items": null,
      "left": null,
      "margin": null,
      "max_height": null,
      "max_width": null,
      "min_height": null,
      "min_width": null,
      "object_fit": null,
      "object_position": null,
      "order": null,
      "overflow": null,
      "overflow_x": null,
      "overflow_y": null,
      "padding": null,
      "right": null,
      "top": null,
      "visibility": null,
      "width": null
     }
    },
    "9edf01c1f5454bce9da79a418a383829": {
     "model_module": "@jupyter-widgets/controls",
     "model_module_version": "1.5.0",
     "model_name": "DescriptionStyleModel",
     "state": {
      "_model_module": "@jupyter-widgets/controls",
      "_model_module_version": "1.5.0",
      "_model_name": "DescriptionStyleModel",
      "_view_count": null,
      "_view_module": "@jupyter-widgets/base",
      "_view_module_version": "1.2.0",
      "_view_name": "StyleView",
      "description_width": ""
     }
    },
    "9f4c640422f6474d956842643d832426": {
     "model_module": "@jupyter-widgets/controls",
     "model_module_version": "1.5.0",
     "model_name": "HBoxModel",
     "state": {
      "_dom_classes": [],
      "_model_module": "@jupyter-widgets/controls",
      "_model_module_version": "1.5.0",
      "_model_name": "HBoxModel",
      "_view_count": null,
      "_view_module": "@jupyter-widgets/controls",
      "_view_module_version": "1.5.0",
      "_view_name": "HBoxView",
      "box_style": "",
      "children": [
       "IPY_MODEL_687d5b5e23344ad48a698e37f0d33037",
       "IPY_MODEL_a4088bcde76847d988add42bc3f08036",
       "IPY_MODEL_2040da1502f740f1ade3e240bf2043f3"
      ],
      "layout": "IPY_MODEL_2f8cfaa858d94e64a89d13c6e09bb6c0"
     }
    },
    "a1048028ff00406aa39f649a1ca79332": {
     "model_module": "@jupyter-widgets/controls",
     "model_module_version": "1.5.0",
     "model_name": "HTMLModel",
     "state": {
      "_dom_classes": [],
      "_model_module": "@jupyter-widgets/controls",
      "_model_module_version": "1.5.0",
      "_model_name": "HTMLModel",
      "_view_count": null,
      "_view_module": "@jupyter-widgets/controls",
      "_view_module_version": "1.5.0",
      "_view_name": "HTMLView",
      "description": "",
      "description_tooltip": null,
      "layout": "IPY_MODEL_28150ccd5ea34e76b59c4f41dd07578c",
      "placeholder": "​",
      "style": "IPY_MODEL_adcdf1d2536348d89f0ec4a8d98d7b01",
      "value": "model.safetensors: 100%"
     }
    },
    "a32a90ee57c4427c95c949d34b78a0dd": {
     "model_module": "@jupyter-widgets/controls",
     "model_module_version": "1.5.0",
     "model_name": "FloatProgressModel",
     "state": {
      "_dom_classes": [],
      "_model_module": "@jupyter-widgets/controls",
      "_model_module_version": "1.5.0",
      "_model_name": "FloatProgressModel",
      "_view_count": null,
      "_view_module": "@jupyter-widgets/controls",
      "_view_module_version": "1.5.0",
      "_view_name": "ProgressView",
      "bar_style": "success",
      "description": "",
      "description_tooltip": null,
      "layout": "IPY_MODEL_49ebbe256be7434995e2d1da105d67ee",
      "max": 190,
      "min": 0,
      "orientation": "horizontal",
      "style": "IPY_MODEL_9572059e8eaa4b8ebf39af50300e4937",
      "value": 190
     }
    },
    "a4088bcde76847d988add42bc3f08036": {
     "model_module": "@jupyter-widgets/controls",
     "model_module_version": "1.5.0",
     "model_name": "FloatProgressModel",
     "state": {
      "_dom_classes": [],
      "_model_module": "@jupyter-widgets/controls",
      "_model_module_version": "1.5.0",
      "_model_name": "FloatProgressModel",
      "_view_count": null,
      "_view_module": "@jupyter-widgets/controls",
      "_view_module_version": "1.5.0",
      "_view_name": "ProgressView",
      "bar_style": "success",
      "description": "",
      "description_tooltip": null,
      "layout": "IPY_MODEL_d006cf962dd24a0b90a4dd4d1f49917f",
      "max": 466247,
      "min": 0,
      "orientation": "horizontal",
      "style": "IPY_MODEL_94a3ad5787b140d092fe105ae39b91a1",
      "value": 466247
     }
    },
    "a44f5dce5c224ccea8d43aa90e96239b": {
     "model_module": "@jupyter-widgets/base",
     "model_module_version": "1.2.0",
     "model_name": "LayoutModel",
     "state": {
      "_model_module": "@jupyter-widgets/base",
      "_model_module_version": "1.2.0",
      "_model_name": "LayoutModel",
      "_view_count": null,
      "_view_module": "@jupyter-widgets/base",
      "_view_module_version": "1.2.0",
      "_view_name": "LayoutView",
      "align_content": null,
      "align_items": null,
      "align_self": null,
      "border": null,
      "bottom": null,
      "display": null,
      "flex": null,
      "flex_flow": null,
      "grid_area": null,
      "grid_auto_columns": null,
      "grid_auto_flow": null,
      "grid_auto_rows": null,
      "grid_column": null,
      "grid_gap": null,
      "grid_row": null,
      "grid_template_areas": null,
      "grid_template_columns": null,
      "grid_template_rows": null,
      "height": null,
      "justify_content": null,
      "justify_items": null,
      "left": null,
      "margin": null,
      "max_height": null,
      "max_width": null,
      "min_height": null,
      "min_width": null,
      "object_fit": null,
      "object_position": null,
      "order": null,
      "overflow": null,
      "overflow_x": null,
      "overflow_y": null,
      "padding": null,
      "right": null,
      "top": null,
      "visibility": null,
      "width": null
     }
    },
    "a4cc3564cdbb42749bb355a0a81c16e2": {
     "model_module": "@jupyter-widgets/controls",
     "model_module_version": "1.5.0",
     "model_name": "DescriptionStyleModel",
     "state": {
      "_model_module": "@jupyter-widgets/controls",
      "_model_module_version": "1.5.0",
      "_model_name": "DescriptionStyleModel",
      "_view_count": null,
      "_view_module": "@jupyter-widgets/base",
      "_view_module_version": "1.2.0",
      "_view_name": "StyleView",
      "description_width": ""
     }
    },
    "a58ca97fa9c14605ab12aff81d9b34a7": {
     "model_module": "@jupyter-widgets/controls",
     "model_module_version": "1.5.0",
     "model_name": "DescriptionStyleModel",
     "state": {
      "_model_module": "@jupyter-widgets/controls",
      "_model_module_version": "1.5.0",
      "_model_name": "DescriptionStyleModel",
      "_view_count": null,
      "_view_module": "@jupyter-widgets/base",
      "_view_module_version": "1.2.0",
      "_view_name": "StyleView",
      "description_width": ""
     }
    },
    "a6e362a83a574f6b8630bbe43399adaf": {
     "model_module": "@jupyter-widgets/controls",
     "model_module_version": "1.5.0",
     "model_name": "DescriptionStyleModel",
     "state": {
      "_model_module": "@jupyter-widgets/controls",
      "_model_module_version": "1.5.0",
      "_model_name": "DescriptionStyleModel",
      "_view_count": null,
      "_view_module": "@jupyter-widgets/base",
      "_view_module_version": "1.2.0",
      "_view_name": "StyleView",
      "description_width": ""
     }
    },
    "a70881726fb74d08ad5db23335da2fd4": {
     "model_module": "@jupyter-widgets/controls",
     "model_module_version": "1.5.0",
     "model_name": "HTMLModel",
     "state": {
      "_dom_classes": [],
      "_model_module": "@jupyter-widgets/controls",
      "_model_module_version": "1.5.0",
      "_model_name": "HTMLModel",
      "_view_count": null,
      "_view_module": "@jupyter-widgets/controls",
      "_view_module_version": "1.5.0",
      "_view_name": "HTMLView",
      "description": "",
      "description_tooltip": null,
      "layout": "IPY_MODEL_44c59405fe514b91bfe44052f1f7bbad",
      "placeholder": "​",
      "style": "IPY_MODEL_6d6dbf46c11d457a92b36c1d9cef276f",
      "value": "README.md: 100%"
     }
    },
    "a7e3d89bf5ef43e98fc716fa6ecd1104": {
     "model_module": "@jupyter-widgets/base",
     "model_module_version": "1.2.0",
     "model_name": "LayoutModel",
     "state": {
      "_model_module": "@jupyter-widgets/base",
      "_model_module_version": "1.2.0",
      "_model_name": "LayoutModel",
      "_view_count": null,
      "_view_module": "@jupyter-widgets/base",
      "_view_module_version": "1.2.0",
      "_view_name": "LayoutView",
      "align_content": null,
      "align_items": null,
      "align_self": null,
      "border": null,
      "bottom": null,
      "display": null,
      "flex": null,
      "flex_flow": null,
      "grid_area": null,
      "grid_auto_columns": null,
      "grid_auto_flow": null,
      "grid_auto_rows": null,
      "grid_column": null,
      "grid_gap": null,
      "grid_row": null,
      "grid_template_areas": null,
      "grid_template_columns": null,
      "grid_template_rows": null,
      "height": null,
      "justify_content": null,
      "justify_items": null,
      "left": null,
      "margin": null,
      "max_height": null,
      "max_width": null,
      "min_height": null,
      "min_width": null,
      "object_fit": null,
      "object_position": null,
      "order": null,
      "overflow": null,
      "overflow_x": null,
      "overflow_y": null,
      "padding": null,
      "right": null,
      "top": null,
      "visibility": null,
      "width": null
     }
    },
    "a964bd507cb948308905ec4a1bea50ac": {
     "model_module": "@jupyter-widgets/controls",
     "model_module_version": "1.5.0",
     "model_name": "FloatProgressModel",
     "state": {
      "_dom_classes": [],
      "_model_module": "@jupyter-widgets/controls",
      "_model_module_version": "1.5.0",
      "_model_name": "FloatProgressModel",
      "_view_count": null,
      "_view_module": "@jupyter-widgets/controls",
      "_view_module_version": "1.5.0",
      "_view_name": "ProgressView",
      "bar_style": "success",
      "description": "",
      "description_tooltip": null,
      "layout": "IPY_MODEL_f71c6f2285f84939869c2a876a64f1e3",
      "max": 612,
      "min": 0,
      "orientation": "horizontal",
      "style": "IPY_MODEL_b7443cd50950414cae1674e427914742",
      "value": 612
     }
    },
    "adcdf1d2536348d89f0ec4a8d98d7b01": {
     "model_module": "@jupyter-widgets/controls",
     "model_module_version": "1.5.0",
     "model_name": "DescriptionStyleModel",
     "state": {
      "_model_module": "@jupyter-widgets/controls",
      "_model_module_version": "1.5.0",
      "_model_name": "DescriptionStyleModel",
      "_view_count": null,
      "_view_module": "@jupyter-widgets/base",
      "_view_module_version": "1.2.0",
      "_view_name": "StyleView",
      "description_width": ""
     }
    },
    "b0f47024a4a642d99d9fa7a098ed0fb8": {
     "model_module": "@jupyter-widgets/controls",
     "model_module_version": "1.5.0",
     "model_name": "HBoxModel",
     "state": {
      "_dom_classes": [],
      "_model_module": "@jupyter-widgets/controls",
      "_model_module_version": "1.5.0",
      "_model_name": "HBoxModel",
      "_view_count": null,
      "_view_module": "@jupyter-widgets/controls",
      "_view_module_version": "1.5.0",
      "_view_name": "HBoxView",
      "box_style": "",
      "children": [
       "IPY_MODEL_15f82ed97d8b4e39a4d4e9738761ec83",
       "IPY_MODEL_c39c8b52c9ba47caba4ff415f514d38f",
       "IPY_MODEL_cc09757a48654d18b080ef70795e954c"
      ],
      "layout": "IPY_MODEL_51804b455f464dff8f3139eb2f30b893"
     }
    },
    "b7443cd50950414cae1674e427914742": {
     "model_module": "@jupyter-widgets/controls",
     "model_module_version": "1.5.0",
     "model_name": "ProgressStyleModel",
     "state": {
      "_model_module": "@jupyter-widgets/controls",
      "_model_module_version": "1.5.0",
      "_model_name": "ProgressStyleModel",
      "_view_count": null,
      "_view_module": "@jupyter-widgets/base",
      "_view_module_version": "1.2.0",
      "_view_name": "StyleView",
      "bar_color": null,
      "description_width": ""
     }
    },
    "c39c8b52c9ba47caba4ff415f514d38f": {
     "model_module": "@jupyter-widgets/controls",
     "model_module_version": "1.5.0",
     "model_name": "FloatProgressModel",
     "state": {
      "_dom_classes": [],
      "_model_module": "@jupyter-widgets/controls",
      "_model_module_version": "1.5.0",
      "_model_name": "FloatProgressModel",
      "_view_count": null,
      "_view_module": "@jupyter-widgets/controls",
      "_view_module_version": "1.5.0",
      "_view_name": "ProgressView",
      "bar_style": "success",
      "description": "",
      "description_tooltip": null,
      "layout": "IPY_MODEL_3f21451c855242a383a41a632173bb51",
      "max": 112,
      "min": 0,
      "orientation": "horizontal",
      "style": "IPY_MODEL_1328bd3203264802819c9ae83eb79602",
      "value": 112
     }
    },
    "c48fcce0695247908cb5345c6b093741": {
     "model_module": "@jupyter-widgets/base",
     "model_module_version": "1.2.0",
     "model_name": "LayoutModel",
     "state": {
      "_model_module": "@jupyter-widgets/base",
      "_model_module_version": "1.2.0",
      "_model_name": "LayoutModel",
      "_view_count": null,
      "_view_module": "@jupyter-widgets/base",
      "_view_module_version": "1.2.0",
      "_view_name": "LayoutView",
      "align_content": null,
      "align_items": null,
      "align_self": null,
      "border": null,
      "bottom": null,
      "display": null,
      "flex": null,
      "flex_flow": null,
      "grid_area": null,
      "grid_auto_columns": null,
      "grid_auto_flow": null,
      "grid_auto_rows": null,
      "grid_column": null,
      "grid_gap": null,
      "grid_row": null,
      "grid_template_areas": null,
      "grid_template_columns": null,
      "grid_template_rows": null,
      "height": null,
      "justify_content": null,
      "justify_items": null,
      "left": null,
      "margin": null,
      "max_height": null,
      "max_width": null,
      "min_height": null,
      "min_width": null,
      "object_fit": null,
      "object_position": null,
      "order": null,
      "overflow": null,
      "overflow_x": null,
      "overflow_y": null,
      "padding": null,
      "right": null,
      "top": null,
      "visibility": null,
      "width": null
     }
    },
    "c7ea02efbf014c98bd90ad2ebd8a113c": {
     "model_module": "@jupyter-widgets/controls",
     "model_module_version": "1.5.0",
     "model_name": "HTMLModel",
     "state": {
      "_dom_classes": [],
      "_model_module": "@jupyter-widgets/controls",
      "_model_module_version": "1.5.0",
      "_model_name": "HTMLModel",
      "_view_count": null,
      "_view_module": "@jupyter-widgets/controls",
      "_view_module_version": "1.5.0",
      "_view_name": "HTMLView",
      "description": "",
      "description_tooltip": null,
      "layout": "IPY_MODEL_4f43efba5ff54886a20055f0d9d2f894",
      "placeholder": "​",
      "style": "IPY_MODEL_2a32474769d047d5ade703197cec0e94",
      "value": "config_sentence_transformers.json: 100%"
     }
    },
    "cc09757a48654d18b080ef70795e954c": {
     "model_module": "@jupyter-widgets/controls",
     "model_module_version": "1.5.0",
     "model_name": "HTMLModel",
     "state": {
      "_dom_classes": [],
      "_model_module": "@jupyter-widgets/controls",
      "_model_module_version": "1.5.0",
      "_model_name": "HTMLModel",
      "_view_count": null,
      "_view_module": "@jupyter-widgets/controls",
      "_view_module_version": "1.5.0",
      "_view_name": "HTMLView",
      "description": "",
      "description_tooltip": null,
      "layout": "IPY_MODEL_071423b0121f4c0c826734b9bf3a4df3",
      "placeholder": "​",
      "style": "IPY_MODEL_fb2e63e3a2ae43e697210a0ff83b0989",
      "value": " 112/112 [00:00&lt;00:00, 6.42kB/s]"
     }
    },
    "cc2f886997564d6aae9726d225049ca2": {
     "model_module": "@jupyter-widgets/controls",
     "model_module_version": "1.5.0",
     "model_name": "DescriptionStyleModel",
     "state": {
      "_model_module": "@jupyter-widgets/controls",
      "_model_module_version": "1.5.0",
      "_model_name": "DescriptionStyleModel",
      "_view_count": null,
      "_view_module": "@jupyter-widgets/base",
      "_view_module_version": "1.2.0",
      "_view_name": "StyleView",
      "description_width": ""
     }
    },
    "cccf227a4cd24fbd91afbaf009b0f8ac": {
     "model_module": "@jupyter-widgets/controls",
     "model_module_version": "1.5.0",
     "model_name": "FloatProgressModel",
     "state": {
      "_dom_classes": [],
      "_model_module": "@jupyter-widgets/controls",
      "_model_module_version": "1.5.0",
      "_model_name": "FloatProgressModel",
      "_view_count": null,
      "_view_module": "@jupyter-widgets/controls",
      "_view_module_version": "1.5.0",
      "_view_name": "ProgressView",
      "bar_style": "success",
      "description": "",
      "description_tooltip": null,
      "layout": "IPY_MODEL_f1e71ef455f241918a2c2b9cadbe4484",
      "max": 116,
      "min": 0,
      "orientation": "horizontal",
      "style": "IPY_MODEL_595e048c1d914e829514fa7234d23f65",
      "value": 116
     }
    },
    "ce5579fd377449a1be64ecd2bcd6f90d": {
     "model_module": "@jupyter-widgets/base",
     "model_module_version": "1.2.0",
     "model_name": "LayoutModel",
     "state": {
      "_model_module": "@jupyter-widgets/base",
      "_model_module_version": "1.2.0",
      "_model_name": "LayoutModel",
      "_view_count": null,
      "_view_module": "@jupyter-widgets/base",
      "_view_module_version": "1.2.0",
      "_view_name": "LayoutView",
      "align_content": null,
      "align_items": null,
      "align_self": null,
      "border": null,
      "bottom": null,
      "display": null,
      "flex": null,
      "flex_flow": null,
      "grid_area": null,
      "grid_auto_columns": null,
      "grid_auto_flow": null,
      "grid_auto_rows": null,
      "grid_column": null,
      "grid_gap": null,
      "grid_row": null,
      "grid_template_areas": null,
      "grid_template_columns": null,
      "grid_template_rows": null,
      "height": null,
      "justify_content": null,
      "justify_items": null,
      "left": null,
      "margin": null,
      "max_height": null,
      "max_width": null,
      "min_height": null,
      "min_width": null,
      "object_fit": null,
      "object_position": null,
      "order": null,
      "overflow": null,
      "overflow_x": null,
      "overflow_y": null,
      "padding": null,
      "right": null,
      "top": null,
      "visibility": null,
      "width": null
     }
    },
    "cf38c82b7e154ea492f6b15175cf7905": {
     "model_module": "@jupyter-widgets/base",
     "model_module_version": "1.2.0",
     "model_name": "LayoutModel",
     "state": {
      "_model_module": "@jupyter-widgets/base",
      "_model_module_version": "1.2.0",
      "_model_name": "LayoutModel",
      "_view_count": null,
      "_view_module": "@jupyter-widgets/base",
      "_view_module_version": "1.2.0",
      "_view_name": "LayoutView",
      "align_content": null,
      "align_items": null,
      "align_self": null,
      "border": null,
      "bottom": null,
      "display": null,
      "flex": null,
      "flex_flow": null,
      "grid_area": null,
      "grid_auto_columns": null,
      "grid_auto_flow": null,
      "grid_auto_rows": null,
      "grid_column": null,
      "grid_gap": null,
      "grid_row": null,
      "grid_template_areas": null,
      "grid_template_columns": null,
      "grid_template_rows": null,
      "height": null,
      "justify_content": null,
      "justify_items": null,
      "left": null,
      "margin": null,
      "max_height": null,
      "max_width": null,
      "min_height": null,
      "min_width": null,
      "object_fit": null,
      "object_position": null,
      "order": null,
      "overflow": null,
      "overflow_x": null,
      "overflow_y": null,
      "padding": null,
      "right": null,
      "top": null,
      "visibility": null,
      "width": null
     }
    },
    "d006cf962dd24a0b90a4dd4d1f49917f": {
     "model_module": "@jupyter-widgets/base",
     "model_module_version": "1.2.0",
     "model_name": "LayoutModel",
     "state": {
      "_model_module": "@jupyter-widgets/base",
      "_model_module_version": "1.2.0",
      "_model_name": "LayoutModel",
      "_view_count": null,
      "_view_module": "@jupyter-widgets/base",
      "_view_module_version": "1.2.0",
      "_view_name": "LayoutView",
      "align_content": null,
      "align_items": null,
      "align_self": null,
      "border": null,
      "bottom": null,
      "display": null,
      "flex": null,
      "flex_flow": null,
      "grid_area": null,
      "grid_auto_columns": null,
      "grid_auto_flow": null,
      "grid_auto_rows": null,
      "grid_column": null,
      "grid_gap": null,
      "grid_row": null,
      "grid_template_areas": null,
      "grid_template_columns": null,
      "grid_template_rows": null,
      "height": null,
      "justify_content": null,
      "justify_items": null,
      "left": null,
      "margin": null,
      "max_height": null,
      "max_width": null,
      "min_height": null,
      "min_width": null,
      "object_fit": null,
      "object_position": null,
      "order": null,
      "overflow": null,
      "overflow_x": null,
      "overflow_y": null,
      "padding": null,
      "right": null,
      "top": null,
      "visibility": null,
      "width": null
     }
    },
    "d5ef3d2add7e41b98a5d97da752365d2": {
     "model_module": "@jupyter-widgets/controls",
     "model_module_version": "1.5.0",
     "model_name": "HBoxModel",
     "state": {
      "_dom_classes": [],
      "_model_module": "@jupyter-widgets/controls",
      "_model_module_version": "1.5.0",
      "_model_name": "HBoxModel",
      "_view_count": null,
      "_view_module": "@jupyter-widgets/controls",
      "_view_module_version": "1.5.0",
      "_view_name": "HBoxView",
      "box_style": "",
      "children": [
       "IPY_MODEL_c7ea02efbf014c98bd90ad2ebd8a113c",
       "IPY_MODEL_cccf227a4cd24fbd91afbaf009b0f8ac",
       "IPY_MODEL_99de873deb6748fa8bee6adc2bd8dafc"
      ],
      "layout": "IPY_MODEL_0bc0bbcaea664baa990e11359e505b7f"
     }
    },
    "dad3335c302a46e49610f4f2292f7c41": {
     "model_module": "@jupyter-widgets/base",
     "model_module_version": "1.2.0",
     "model_name": "LayoutModel",
     "state": {
      "_model_module": "@jupyter-widgets/base",
      "_model_module_version": "1.2.0",
      "_model_name": "LayoutModel",
      "_view_count": null,
      "_view_module": "@jupyter-widgets/base",
      "_view_module_version": "1.2.0",
      "_view_name": "LayoutView",
      "align_content": null,
      "align_items": null,
      "align_self": null,
      "border": null,
      "bottom": null,
      "display": null,
      "flex": null,
      "flex_flow": null,
      "grid_area": null,
      "grid_auto_columns": null,
      "grid_auto_flow": null,
      "grid_auto_rows": null,
      "grid_column": null,
      "grid_gap": null,
      "grid_row": null,
      "grid_template_areas": null,
      "grid_template_columns": null,
      "grid_template_rows": null,
      "height": null,
      "justify_content": null,
      "justify_items": null,
      "left": null,
      "margin": null,
      "max_height": null,
      "max_width": null,
      "min_height": null,
      "min_width": null,
      "object_fit": null,
      "object_position": null,
      "order": null,
      "overflow": null,
      "overflow_x": null,
      "overflow_y": null,
      "padding": null,
      "right": null,
      "top": null,
      "visibility": null,
      "width": null
     }
    },
    "e402ad18a47b4045886958391fa2c0ca": {
     "model_module": "@jupyter-widgets/controls",
     "model_module_version": "1.5.0",
     "model_name": "HBoxModel",
     "state": {
      "_dom_classes": [],
      "_model_module": "@jupyter-widgets/controls",
      "_model_module_version": "1.5.0",
      "_model_name": "HBoxModel",
      "_view_count": null,
      "_view_module": "@jupyter-widgets/controls",
      "_view_module_version": "1.5.0",
      "_view_name": "HBoxView",
      "box_style": "",
      "children": [
       "IPY_MODEL_a1048028ff00406aa39f649a1ca79332",
       "IPY_MODEL_fbc3c1fa820e48099dd497b24ac0c160",
       "IPY_MODEL_6e4858c57d0542718f2303ecfbea8f64"
      ],
      "layout": "IPY_MODEL_4d0f855851214881bf962de117f181cc"
     }
    },
    "e4310be8139b45cf846013cce84e2957": {
     "model_module": "@jupyter-widgets/base",
     "model_module_version": "1.2.0",
     "model_name": "LayoutModel",
     "state": {
      "_model_module": "@jupyter-widgets/base",
      "_model_module_version": "1.2.0",
      "_model_name": "LayoutModel",
      "_view_count": null,
      "_view_module": "@jupyter-widgets/base",
      "_view_module_version": "1.2.0",
      "_view_name": "LayoutView",
      "align_content": null,
      "align_items": null,
      "align_self": null,
      "border": null,
      "bottom": null,
      "display": null,
      "flex": null,
      "flex_flow": null,
      "grid_area": null,
      "grid_auto_columns": null,
      "grid_auto_flow": null,
      "grid_auto_rows": null,
      "grid_column": null,
      "grid_gap": null,
      "grid_row": null,
      "grid_template_areas": null,
      "grid_template_columns": null,
      "grid_template_rows": null,
      "height": null,
      "justify_content": null,
      "justify_items": null,
      "left": null,
      "margin": null,
      "max_height": null,
      "max_width": null,
      "min_height": null,
      "min_width": null,
      "object_fit": null,
      "object_position": null,
      "order": null,
      "overflow": null,
      "overflow_x": null,
      "overflow_y": null,
      "padding": null,
      "right": null,
      "top": null,
      "visibility": null,
      "width": null
     }
    },
    "e5a95773181b4f0fb7ce0f9715c4a182": {
     "model_module": "@jupyter-widgets/base",
     "model_module_version": "1.2.0",
     "model_name": "LayoutModel",
     "state": {
      "_model_module": "@jupyter-widgets/base",
      "_model_module_version": "1.2.0",
      "_model_name": "LayoutModel",
      "_view_count": null,
      "_view_module": "@jupyter-widgets/base",
      "_view_module_version": "1.2.0",
      "_view_name": "LayoutView",
      "align_content": null,
      "align_items": null,
      "align_self": null,
      "border": null,
      "bottom": null,
      "display": null,
      "flex": null,
      "flex_flow": null,
      "grid_area": null,
      "grid_auto_columns": null,
      "grid_auto_flow": null,
      "grid_auto_rows": null,
      "grid_column": null,
      "grid_gap": null,
      "grid_row": null,
      "grid_template_areas": null,
      "grid_template_columns": null,
      "grid_template_rows": null,
      "height": null,
      "justify_content": null,
      "justify_items": null,
      "left": null,
      "margin": null,
      "max_height": null,
      "max_width": null,
      "min_height": null,
      "min_width": null,
      "object_fit": null,
      "object_position": null,
      "order": null,
      "overflow": null,
      "overflow_x": null,
      "overflow_y": null,
      "padding": null,
      "right": null,
      "top": null,
      "visibility": null,
      "width": null
     }
    },
    "e713e33811d44efb861347701eea3c61": {
     "model_module": "@jupyter-widgets/base",
     "model_module_version": "1.2.0",
     "model_name": "LayoutModel",
     "state": {
      "_model_module": "@jupyter-widgets/base",
      "_model_module_version": "1.2.0",
      "_model_name": "LayoutModel",
      "_view_count": null,
      "_view_module": "@jupyter-widgets/base",
      "_view_module_version": "1.2.0",
      "_view_name": "LayoutView",
      "align_content": null,
      "align_items": null,
      "align_self": null,
      "border": null,
      "bottom": null,
      "display": null,
      "flex": null,
      "flex_flow": null,
      "grid_area": null,
      "grid_auto_columns": null,
      "grid_auto_flow": null,
      "grid_auto_rows": null,
      "grid_column": null,
      "grid_gap": null,
      "grid_row": null,
      "grid_template_areas": null,
      "grid_template_columns": null,
      "grid_template_rows": null,
      "height": null,
      "justify_content": null,
      "justify_items": null,
      "left": null,
      "margin": null,
      "max_height": null,
      "max_width": null,
      "min_height": null,
      "min_width": null,
      "object_fit": null,
      "object_position": null,
      "order": null,
      "overflow": null,
      "overflow_x": null,
      "overflow_y": null,
      "padding": null,
      "right": null,
      "top": null,
      "visibility": null,
      "width": null
     }
    },
    "e9d2c8f0b2cc4dc78c20559a459182db": {
     "model_module": "@jupyter-widgets/controls",
     "model_module_version": "1.5.0",
     "model_name": "HTMLModel",
     "state": {
      "_dom_classes": [],
      "_model_module": "@jupyter-widgets/controls",
      "_model_module_version": "1.5.0",
      "_model_name": "HTMLModel",
      "_view_count": null,
      "_view_module": "@jupyter-widgets/controls",
      "_view_module_version": "1.5.0",
      "_view_name": "HTMLView",
      "description": "",
      "description_tooltip": null,
      "layout": "IPY_MODEL_7dc3c41b5a7540d68c0c15fc10af2418",
      "placeholder": "​",
      "style": "IPY_MODEL_953cd89d8f0440a584b38616f5918035",
      "value": " 53.0/53.0 [00:00&lt;00:00, 2.90kB/s]"
     }
    },
    "ee62e4869cf540cf8c1e1acf245e09f9": {
     "model_module": "@jupyter-widgets/base",
     "model_module_version": "1.2.0",
     "model_name": "LayoutModel",
     "state": {
      "_model_module": "@jupyter-widgets/base",
      "_model_module_version": "1.2.0",
      "_model_name": "LayoutModel",
      "_view_count": null,
      "_view_module": "@jupyter-widgets/base",
      "_view_module_version": "1.2.0",
      "_view_name": "LayoutView",
      "align_content": null,
      "align_items": null,
      "align_self": null,
      "border": null,
      "bottom": null,
      "display": null,
      "flex": null,
      "flex_flow": null,
      "grid_area": null,
      "grid_auto_columns": null,
      "grid_auto_flow": null,
      "grid_auto_rows": null,
      "grid_column": null,
      "grid_gap": null,
      "grid_row": null,
      "grid_template_areas": null,
      "grid_template_columns": null,
      "grid_template_rows": null,
      "height": null,
      "justify_content": null,
      "justify_items": null,
      "left": null,
      "margin": null,
      "max_height": null,
      "max_width": null,
      "min_height": null,
      "min_width": null,
      "object_fit": null,
      "object_position": null,
      "order": null,
      "overflow": null,
      "overflow_x": null,
      "overflow_y": null,
      "padding": null,
      "right": null,
      "top": null,
      "visibility": null,
      "width": null
     }
    },
    "ee89aa5a2d2148d0830232a536509d9e": {
     "model_module": "@jupyter-widgets/controls",
     "model_module_version": "1.5.0",
     "model_name": "DescriptionStyleModel",
     "state": {
      "_model_module": "@jupyter-widgets/controls",
      "_model_module_version": "1.5.0",
      "_model_name": "DescriptionStyleModel",
      "_view_count": null,
      "_view_module": "@jupyter-widgets/base",
      "_view_module_version": "1.2.0",
      "_view_name": "StyleView",
      "description_width": ""
     }
    },
    "ee9f015555284230bd088beb0652f7e7": {
     "model_module": "@jupyter-widgets/controls",
     "model_module_version": "1.5.0",
     "model_name": "HTMLModel",
     "state": {
      "_dom_classes": [],
      "_model_module": "@jupyter-widgets/controls",
      "_model_module_version": "1.5.0",
      "_model_name": "HTMLModel",
      "_view_count": null,
      "_view_module": "@jupyter-widgets/controls",
      "_view_module_version": "1.5.0",
      "_view_name": "HTMLView",
      "description": "",
      "description_tooltip": null,
      "layout": "IPY_MODEL_c48fcce0695247908cb5345c6b093741",
      "placeholder": "​",
      "style": "IPY_MODEL_59f7be0593634c21a14c374e1afc16ac",
      "value": " 232k/232k [00:00&lt;00:00, 7.96MB/s]"
     }
    },
    "f1e71ef455f241918a2c2b9cadbe4484": {
     "model_module": "@jupyter-widgets/base",
     "model_module_version": "1.2.0",
     "model_name": "LayoutModel",
     "state": {
      "_model_module": "@jupyter-widgets/base",
      "_model_module_version": "1.2.0",
      "_model_name": "LayoutModel",
      "_view_count": null,
      "_view_module": "@jupyter-widgets/base",
      "_view_module_version": "1.2.0",
      "_view_name": "LayoutView",
      "align_content": null,
      "align_items": null,
      "align_self": null,
      "border": null,
      "bottom": null,
      "display": null,
      "flex": null,
      "flex_flow": null,
      "grid_area": null,
      "grid_auto_columns": null,
      "grid_auto_flow": null,
      "grid_auto_rows": null,
      "grid_column": null,
      "grid_gap": null,
      "grid_row": null,
      "grid_template_areas": null,
      "grid_template_columns": null,
      "grid_template_rows": null,
      "height": null,
      "justify_content": null,
      "justify_items": null,
      "left": null,
      "margin": null,
      "max_height": null,
      "max_width": null,
      "min_height": null,
      "min_width": null,
      "object_fit": null,
      "object_position": null,
      "order": null,
      "overflow": null,
      "overflow_x": null,
      "overflow_y": null,
      "padding": null,
      "right": null,
      "top": null,
      "visibility": null,
      "width": null
     }
    },
    "f71c6f2285f84939869c2a876a64f1e3": {
     "model_module": "@jupyter-widgets/base",
     "model_module_version": "1.2.0",
     "model_name": "LayoutModel",
     "state": {
      "_model_module": "@jupyter-widgets/base",
      "_model_module_version": "1.2.0",
      "_model_name": "LayoutModel",
      "_view_count": null,
      "_view_module": "@jupyter-widgets/base",
      "_view_module_version": "1.2.0",
      "_view_name": "LayoutView",
      "align_content": null,
      "align_items": null,
      "align_self": null,
      "border": null,
      "bottom": null,
      "display": null,
      "flex": null,
      "flex_flow": null,
      "grid_area": null,
      "grid_auto_columns": null,
      "grid_auto_flow": null,
      "grid_auto_rows": null,
      "grid_column": null,
      "grid_gap": null,
      "grid_row": null,
      "grid_template_areas": null,
      "grid_template_columns": null,
      "grid_template_rows": null,
      "height": null,
      "justify_content": null,
      "justify_items": null,
      "left": null,
      "margin": null,
      "max_height": null,
      "max_width": null,
      "min_height": null,
      "min_width": null,
      "object_fit": null,
      "object_position": null,
      "order": null,
      "overflow": null,
      "overflow_x": null,
      "overflow_y": null,
      "padding": null,
      "right": null,
      "top": null,
      "visibility": null,
      "width": null
     }
    },
    "f839b38918b64a33964260726cdc36f8": {
     "model_module": "@jupyter-widgets/base",
     "model_module_version": "1.2.0",
     "model_name": "LayoutModel",
     "state": {
      "_model_module": "@jupyter-widgets/base",
      "_model_module_version": "1.2.0",
      "_model_name": "LayoutModel",
      "_view_count": null,
      "_view_module": "@jupyter-widgets/base",
      "_view_module_version": "1.2.0",
      "_view_name": "LayoutView",
      "align_content": null,
      "align_items": null,
      "align_self": null,
      "border": null,
      "bottom": null,
      "display": null,
      "flex": null,
      "flex_flow": null,
      "grid_area": null,
      "grid_auto_columns": null,
      "grid_auto_flow": null,
      "grid_auto_rows": null,
      "grid_column": null,
      "grid_gap": null,
      "grid_row": null,
      "grid_template_areas": null,
      "grid_template_columns": null,
      "grid_template_rows": null,
      "height": null,
      "justify_content": null,
      "justify_items": null,
      "left": null,
      "margin": null,
      "max_height": null,
      "max_width": null,
      "min_height": null,
      "min_width": null,
      "object_fit": null,
      "object_position": null,
      "order": null,
      "overflow": null,
      "overflow_x": null,
      "overflow_y": null,
      "padding": null,
      "right": null,
      "top": null,
      "visibility": null,
      "width": null
     }
    },
    "fad6d39722764e73a76cc5357bc0650b": {
     "model_module": "@jupyter-widgets/controls",
     "model_module_version": "1.5.0",
     "model_name": "ProgressStyleModel",
     "state": {
      "_model_module": "@jupyter-widgets/controls",
      "_model_module_version": "1.5.0",
      "_model_name": "ProgressStyleModel",
      "_view_count": null,
      "_view_module": "@jupyter-widgets/base",
      "_view_module_version": "1.2.0",
      "_view_name": "StyleView",
      "bar_color": null,
      "description_width": ""
     }
    },
    "fb2e63e3a2ae43e697210a0ff83b0989": {
     "model_module": "@jupyter-widgets/controls",
     "model_module_version": "1.5.0",
     "model_name": "DescriptionStyleModel",
     "state": {
      "_model_module": "@jupyter-widgets/controls",
      "_model_module_version": "1.5.0",
      "_model_name": "DescriptionStyleModel",
      "_view_count": null,
      "_view_module": "@jupyter-widgets/base",
      "_view_module_version": "1.2.0",
      "_view_name": "StyleView",
      "description_width": ""
     }
    },
    "fbc3c1fa820e48099dd497b24ac0c160": {
     "model_module": "@jupyter-widgets/controls",
     "model_module_version": "1.5.0",
     "model_name": "FloatProgressModel",
     "state": {
      "_dom_classes": [],
      "_model_module": "@jupyter-widgets/controls",
      "_model_module_version": "1.5.0",
      "_model_name": "FloatProgressModel",
      "_view_count": null,
      "_view_module": "@jupyter-widgets/controls",
      "_view_module_version": "1.5.0",
      "_view_name": "ProgressView",
      "bar_style": "success",
      "description": "",
      "description_tooltip": null,
      "layout": "IPY_MODEL_a7e3d89bf5ef43e98fc716fa6ecd1104",
      "max": 90868376,
      "min": 0,
      "orientation": "horizontal",
      "style": "IPY_MODEL_0fa70db0aead4f8987cf3d2a38374062",
      "value": 90868376
     }
    },
    "fe46b68cef3d42a48c38d0996857eaa2": {
     "model_module": "@jupyter-widgets/base",
     "model_module_version": "1.2.0",
     "model_name": "LayoutModel",
     "state": {
      "_model_module": "@jupyter-widgets/base",
      "_model_module_version": "1.2.0",
      "_model_name": "LayoutModel",
      "_view_count": null,
      "_view_module": "@jupyter-widgets/base",
      "_view_module_version": "1.2.0",
      "_view_name": "LayoutView",
      "align_content": null,
      "align_items": null,
      "align_self": null,
      "border": null,
      "bottom": null,
      "display": null,
      "flex": null,
      "flex_flow": null,
      "grid_area": null,
      "grid_auto_columns": null,
      "grid_auto_flow": null,
      "grid_auto_rows": null,
      "grid_column": null,
      "grid_gap": null,
      "grid_row": null,
      "grid_template_areas": null,
      "grid_template_columns": null,
      "grid_template_rows": null,
      "height": null,
      "justify_content": null,
      "justify_items": null,
      "left": null,
      "margin": null,
      "max_height": null,
      "max_width": null,
      "min_height": null,
      "min_width": null,
      "object_fit": null,
      "object_position": null,
      "order": null,
      "overflow": null,
      "overflow_x": null,
      "overflow_y": null,
      "padding": null,
      "right": null,
      "top": null,
      "visibility": null,
      "width": null
     }
    },
    "fe9281f31e31446a8b48626329fca0d1": {
     "model_module": "@jupyter-widgets/controls",
     "model_module_version": "1.5.0",
     "model_name": "DescriptionStyleModel",
     "state": {
      "_model_module": "@jupyter-widgets/controls",
      "_model_module_version": "1.5.0",
      "_model_name": "DescriptionStyleModel",
      "_view_count": null,
      "_view_module": "@jupyter-widgets/base",
      "_view_module_version": "1.2.0",
      "_view_name": "StyleView",
      "description_width": ""
     }
    }
   }
  }
 },
 "nbformat": 4,
 "nbformat_minor": 4
}
